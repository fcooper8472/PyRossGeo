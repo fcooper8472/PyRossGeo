{
 "cells": [
  {
   "cell_type": "code",
   "execution_count": 1,
   "metadata": {
    "scrolled": true
   },
   "outputs": [
    {
     "name": "stdout",
     "output_type": "stream",
     "text": [
      "running build_ext\n"
     ]
    }
   ],
   "source": [
    "%%capture\n",
    "# Compile and import local pyrossgeo module\n",
    "import os, sys\n",
    "owd = os.getcwd()\n",
    "os.chdir('../../')\n",
    "sys.path.insert(0,'../../')\n",
    "!python setup.py build_ext --inplace\n",
    "os.chdir(owd)\n",
    "\n",
    "import numpy as np\n",
    "import matplotlib as mpl\n",
    "import matplotlib.pyplot as plt\n",
    "import pyrossgeo\n",
    "\n",
    "import pandas as pd\n",
    "import json"
   ]
  },
  {
   "cell_type": "markdown",
   "metadata": {},
   "source": [
    "Simulation parameters"
   ]
  },
  {
   "cell_type": "code",
   "execution_count": 2,
   "metadata": {},
   "outputs": [],
   "source": [
    "model_path = 'model.json' \n",
    "commuter_networks_path = 'commuter_networks.csv'\n",
    "node_parameters_path = 'node_parameters.csv'\n",
    "cnode_parameters_path = 'cnode_parameters.csv' \n",
    "contact_matrices_path = 'contact_matrices.json' \n",
    "node_cmatrices_path = 'node_cmatrices.csv' \n",
    "cnode_cmatrices_path = 'cnode_cmatrices.csv' \n",
    "node_positions_path = 'node_positions.csv' \n",
    "node_populations_path = 'node_populations.csv' "
   ]
  },
  {
   "cell_type": "markdown",
   "metadata": {},
   "source": [
    "Simulation settings"
   ]
  },
  {
   "cell_type": "code",
   "execution_count": 3,
   "metadata": {},
   "outputs": [],
   "source": [
    "t_start = 0\n",
    "t_end = 24*60*100\n",
    "\n",
    "_, dts = pyrossgeo.utils.get_dt_schedule([\n",
    "    (0,  1*60),\n",
    "    (7*60,  1),\n",
    "    (10*60, 2*60),\n",
    "    (17*60, 1),\n",
    "    (19*60, 2*60)\n",
    "], end_time=24*60)"
   ]
  },
  {
   "cell_type": "markdown",
   "metadata": {},
   "source": [
    "Run simulation"
   ]
  },
  {
   "cell_type": "code",
   "execution_count": 4,
   "metadata": {},
   "outputs": [
    {
     "ename": "KeyError",
     "evalue": "'settings'",
     "output_type": "error",
     "traceback": [
      "\u001b[0;31m---------------------------------------------------------------------------\u001b[0m",
      "\u001b[0;31mKeyError\u001b[0m                                  Traceback (most recent call last)",
      "\u001b[0;32m<ipython-input-4-0906049e3e5a>\u001b[0m in \u001b[0;36m<module>\u001b[0;34m\u001b[0m\n\u001b[1;32m      1\u001b[0m \u001b[0msim\u001b[0m \u001b[0;34m=\u001b[0m \u001b[0mpyrossgeo\u001b[0m\u001b[0;34m.\u001b[0m\u001b[0mSimulation\u001b[0m\u001b[0;34m(\u001b[0m\u001b[0;34m)\u001b[0m\u001b[0;34m\u001b[0m\u001b[0;34m\u001b[0m\u001b[0m\n\u001b[1;32m      2\u001b[0m \u001b[0;34m\u001b[0m\u001b[0m\n\u001b[0;32m----> 3\u001b[0;31m \u001b[0mX_state\u001b[0m \u001b[0;34m=\u001b[0m \u001b[0msim\u001b[0m\u001b[0;34m.\u001b[0m\u001b[0minitialize\u001b[0m\u001b[0;34m(\u001b[0m\u001b[0;34m)\u001b[0m\u001b[0;34m\u001b[0m\u001b[0;34m\u001b[0m\u001b[0m\n\u001b[0m\u001b[1;32m      4\u001b[0m \u001b[0mdX_state\u001b[0m \u001b[0;34m=\u001b[0m \u001b[0mnp\u001b[0m\u001b[0;34m.\u001b[0m\u001b[0mzeros\u001b[0m\u001b[0;34m(\u001b[0m\u001b[0mX_state\u001b[0m\u001b[0;34m.\u001b[0m\u001b[0msize\u001b[0m\u001b[0;34m)\u001b[0m\u001b[0;34m\u001b[0m\u001b[0;34m\u001b[0m\u001b[0m\n\u001b[1;32m      5\u001b[0m \u001b[0;34m\u001b[0m\u001b[0m\n",
      "\u001b[0;32m~/dev/PyRossGeo/pyrossgeo/Simulation.pyx\u001b[0m in \u001b[0;36mpyrossgeo.Simulation.Simulation.initialize\u001b[0;34m()\u001b[0m\n",
      "\u001b[0;32m~/dev/PyRossGeo/pyrossgeo/_initialization.pyx\u001b[0m in \u001b[0;36mpyrossgeo._initialization.initialize\u001b[0;34m()\u001b[0m\n",
      "\u001b[0;31mKeyError\u001b[0m: 'settings'"
     ]
    }
   ],
   "source": [
    "sim = pyrossgeo.Simulation()\n",
    "\n",
    "X_state = sim.initialize()\n",
    "dX_state = np.zeros(X_state.size)\n",
    "\n",
    "sim_data = sim.simulate(X_state, t_start, t_end, dts, steps_per_save=1)\n",
    "\n",
    "ts, node_data, cnode_data, location_data, community_data, network_data = pyrossgeo.utils.get_simulation_data(sim_data)\n",
    "\n",
    "ts_days = ts / (24*60)\n",
    "ts_hours = ts / 60"
   ]
  },
  {
   "cell_type": "markdown",
   "metadata": {},
   "source": [
    "## Plot data"
   ]
  },
  {
   "cell_type": "code",
   "execution_count": null,
   "metadata": {},
   "outputs": [],
   "source": [
    "plt.figure( figsize=(8,3) )\n",
    "\n",
    "S = np.sum(network_data[:,:,0], axis=1)\n",
    "I = np.sum(network_data[:,:,1], axis=1)\n",
    "R = np.sum(network_data[:,:,2], axis=1)\n",
    "N = S + I + R\n",
    "\n",
    "plt.plot(ts_days, S, label=\"S\")\n",
    "plt.plot(ts_days, I, label=\"I\")\n",
    "plt.plot(ts_days, R, label=\"R\")\n",
    "plt.plot(ts_days, N, label=\"N\")\n",
    "\n",
    "plt.legend(loc='upper right', fontsize=12)\n",
    "plt.xlabel('Days')"
   ]
  },
  {
   "cell_type": "code",
   "execution_count": null,
   "metadata": {},
   "outputs": [],
   "source": [
    "plt.figure( figsize=(14,7) )\n",
    "\n",
    "S0 = network_data[:,0,0]\n",
    "I0 = network_data[:,0,1]\n",
    "R0 = network_data[:,0,2]\n",
    "S1 = network_data[:,1,0]\n",
    "I1 = network_data[:,1,1]\n",
    "R1 = network_data[:,1,2]\n",
    "S2 = network_data[:,2,0]\n",
    "I2 = network_data[:,2,1]\n",
    "R2 = network_data[:,2,2]\n",
    "S3 = network_data[:,3,0]\n",
    "I3 = network_data[:,3,1]\n",
    "R3 = network_data[:,3,2]\n",
    "\n",
    "plt.plot(ts_days, S0, label=\"S0\")\n",
    "plt.plot(ts_days, I0, label=\"I0\")\n",
    "plt.plot(ts_days, R0, label=\"R0\")\n",
    "plt.plot(ts_days, S1, label=\"S1\")\n",
    "plt.plot(ts_days, I1, label=\"I1\")\n",
    "plt.plot(ts_days, R1, label=\"R1\")\n",
    "plt.plot(ts_days, S2, label=\"S2\")\n",
    "plt.plot(ts_days, I2, label=\"I2\")\n",
    "plt.plot(ts_days, R2, label=\"R2\")\n",
    "plt.plot(ts_days, S3, label=\"S3\")\n",
    "plt.plot(ts_days, I3, label=\"I3\")\n",
    "plt.plot(ts_days, R3, label=\"R3\")\n",
    "\n",
    "plt.legend(loc='upper right', fontsize=12)\n",
    "plt.xlabel('Days')"
   ]
  }
 ],
 "metadata": {
  "kernelspec": {
   "display_name": "Python 3",
   "language": "python",
   "name": "python3"
  },
  "language_info": {
   "codemirror_mode": {
    "name": "ipython",
    "version": 3
   },
   "file_extension": ".py",
   "mimetype": "text/x-python",
   "name": "python",
   "nbconvert_exporter": "python",
   "pygments_lexer": "ipython3",
   "version": "3.7.4"
  }
 },
 "nbformat": 4,
 "nbformat_minor": 4
}
