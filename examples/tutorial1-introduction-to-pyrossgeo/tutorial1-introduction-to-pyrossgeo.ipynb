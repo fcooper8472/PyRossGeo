{
 "cells": [
  {
   "cell_type": "markdown",
   "metadata": {},
   "source": [
    "# Tutorial 1 - Introduction to PyRossGeo"
   ]
  },
  {
   "cell_type": "markdown",
   "metadata": {},
   "source": [
    "- [Skip to **Tutorial 2: Handling PyRossGeo output**](../tutorial2-handling-PyRossGeo-output/tutorial2-handling-PyRossGeo-output.ipynb)\n",
    "- [Skip to **Tutorial 3: Handling the simulation output**](../tutorial3-interventions/tutorial3-interventions.ipynb)\n",
    "- [Go to the PyRossGeo documentation](https://github.com/lukastk/PyRossGeo/blob/master/docs/Documentation.md)"
   ]
  },
  {
   "cell_type": "markdown",
   "metadata": {},
   "source": [
    "<b>Note: The various model parameters used in this tutorial were chosen for illustrative purposes, and are not based on figures from medical literature. Therefore the results of the simulations in the tutorial are not indicative of reality.</b>\n",
    "\n",
    "This tutorial assumes knowledge of the PyRossGeo model. Please take a look at the [model description](https://github.com/lukastk/PyRossGeo/blob/master/docs/model.pdf) if you have not yet done so.\n",
    "\n",
    "In this tutorial we will introduce the core functionalities of PyRossGeo. We will first simulate a single node with SIR dynamics, and then we will proceed  to simulate a network of nodes with SEAIR dynamics. If you are unfamiliar with SIR dynamics, or of its numerous variations, please see [this](https://github.com/rajeshrinet/pyross/blob/master/docs/models.pdf)."
   ]
  },
  {
   "cell_type": "code",
   "execution_count": 1,
   "metadata": {},
   "outputs": [],
   "source": [
    "%%capture\n",
    "# Compile and import local pyrossgeo module\n",
    "import os, sys\n",
    "owd = os.getcwd()\n",
    "os.chdir('../../')\n",
    "sys.path.insert(0,'../../')\n",
    "!python setup.py build_ext --inplace\n",
    "os.chdir(owd)\n",
    "\n",
    "import numpy as np\n",
    "import matplotlib as mpl\n",
    "import matplotlib.pyplot as plt\n",
    "import pyrossgeo\n",
    "\n",
    "import pandas as pd\n",
    "import json"
   ]
  },
  {
   "cell_type": "markdown",
   "metadata": {},
   "source": [
    "## 1.1 Age-structured SIR on a single node\n",
    "\n",
    "The following configuration files are used in a PyRossGeo simulation:\n",
    "- [model.json](https://github.com/lukastk/PyRossGeo/blob/master/docs/Configuration%20files.md#modeljson)\n",
    "- [node_parameters.csv](https://github.com/lukastk/PyRossGeo/blob/master/docs/Configuration%20files.tex.md#node_parameterscsv)\n",
    "- [cnode_parameters.csv](https://github.com/lukastk/PyRossGeo/blob/master/docs/Configuration%20files.md#cnode_parameterscsv)\n",
    "- [contact_matrices.json](https://github.com/lukastk/PyRossGeo/blob/master/docs/Configuration%20files.md#contact_matricesjson)\n",
    "- [node_cmatrices.csv](https://github.com/lukastk/PyRossGeo/blob/master/docs/Configuration%20files.md#node_cmatricescsv)\n",
    "- [cnode_cmatrices.csv](https://github.com/lukastk/PyRossGeo/blob/master/docs/Configuration%20files.md#cnode_cmatricescsv)\n",
    "- [node_populations.csv](https://github.com/lukastk/PyRossGeo/blob/master/docs/Configuration%20files.md#node_populationscsv)\n",
    "- [commuter_networks.csv](https://github.com/lukastk/PyRossGeo/blob/master/docs/Configuration%20files.md#commuter_networkscsv)\n",
    "\n",
    "We will go through the structure of these files briefly in this tutorial, but for more detailed descriptions please click the links above. The configuration files used for section 1.1 of this tutorial can be found [here](https://github.com/lukastk/PyRossGeo/tree/master/examples/tutorial1-introduction-to-pyrossgeo/SIR_single_node). "
   ]
  },
  {
   "cell_type": "markdown",
   "metadata": {},
   "source": [
    "### 1.1.1 Defining the model ([model.json](https://github.com/lukastk/PyRossGeo/blob/master/docs/Configuration%20files.md#modeljson))\n",
    "\n",
    "`model.json` defines the model to use for the local epidemiological dynamics at each node. Below you can see the `model.json` for SIR."
   ]
  },
  {
   "cell_type": "code",
   "execution_count": 2,
   "metadata": {},
   "outputs": [
    {
     "name": "stdout",
     "output_type": "stream",
     "text": [
      "{\n",
      "    \"settings\" : {\n",
      "        \"classes\" : [\"S\", \"I\", \"R\"],\n",
      "        \"stochastic_threshold_from_below\" : [1000, 1000, 1000],\n",
      "        \"stochastic_threshold_from_above\" : [500, 500, 500]\n",
      "    },\n",
      "\n",
      "    \"S\" : {\n",
      "        \"linear\"    : [],\n",
      "        \"infection\" : [ [\"I\", \"-beta\"] ]\n",
      "    },\n",
      "\n",
      "    \"I\" : {\n",
      "        \"linear\"    : [ [\"I\", \"-gamma\"] ],\n",
      "        \"infection\" : [ [\"I\", \"beta\"] ]\n",
      "    },\n",
      "\n",
      "    \"R\" : {\n",
      "        \"linear\"    : [ [\"I\", \"gamma\"] ],\n",
      "        \"infection\" : []\n",
      "    }\n",
      "}\n",
      "\n"
     ]
    }
   ],
   "source": [
    "with open('./SIR_single_node/model.json', 'r') as f:\n",
    "    print(f.read())"
   ]
  },
  {
   "cell_type": "markdown",
   "metadata": {},
   "source": [
    "The list of all epidemiological classes are defined using in the list `\"classes\" : [\"S\", \"I\", \"R\"]`. The dynamics of each individual class is then defined using the\n",
    "\n",
    "```json\n",
    "\"I\" : {\n",
    "        \"linear\"    : [ [\"I\", \"-gamma\"] ],\n",
    "        \"infection\" : [ [\"I\", \"beta\"] ]\n",
    "    },\n",
    "```\n",
    "\n",
    "construction, where each linear and each non-linear infection term are given. For example, we can read off the dynamics of the $I$ class as\n",
    "\n",
    "$$\n",
    "\\dot{I}^\\mu = \\beta \\sum_\\nu C_{\\mu \\nu} \\frac{I^\\nu}{N^\\nu} - \\gamma I^\\mu\n",
    "$$\n",
    "\n",
    "where the $\\mu$ corresponds the age bracket. Indices giving the home and locations $(i,j)$ have been omitted. Note that the models are automatically given an age-structure. The age-contact structure of the simulation is defined in section 1.1.3.\n",
    "\n",
    "The whole system of equations are:\n",
    "\n",
    "$$\n",
    "\\begin{aligned}\n",
    "\\dot{S}^\\mu & = - \\beta \\sum_\\nu C_{\\mu \\nu} \\frac{I^\\nu}{N^\\nu} S^\\mu \\\\\n",
    "\\dot{I}^\\mu & = \\beta \\sum_\\nu C_{\\mu \\nu} \\frac{I^\\nu}{N^\\nu} - \\gamma I^\\mu \\\\\n",
    "\\dot{R}^\\mu & = \\gamma I^\\mu\n",
    "\\end{aligned}\n",
    "$$"
   ]
  },
  {
   "cell_type": "markdown",
   "metadata": {},
   "source": [
    "### 1.1.2 Setting the model parameters ([node_parameters.csv](https://github.com/lukastk/PyRossGeo/blob/master/docs/Configuration%20files.tex.md#node_parameterscsv) and [cnode_parameters.csv](https://github.com/lukastk/PyRossGeo/blob/master/docs/Configuration%20files.md#cnode_parameterscsv))\n",
    "\n",
    "Next, we must define the model parameters `beta` and `gamma`. Below you can see the `node_parameters.csv` for this example."
   ]
  },
  {
   "cell_type": "code",
   "execution_count": 3,
   "metadata": {},
   "outputs": [
    {
     "data": {
      "text/html": [
       "<div>\n",
       "<style scoped>\n",
       "    .dataframe tbody tr th:only-of-type {\n",
       "        vertical-align: middle;\n",
       "    }\n",
       "\n",
       "    .dataframe tbody tr th {\n",
       "        vertical-align: top;\n",
       "    }\n",
       "\n",
       "    .dataframe thead th {\n",
       "        text-align: right;\n",
       "    }\n",
       "</style>\n",
       "<table border=\"1\" class=\"dataframe\">\n",
       "  <thead>\n",
       "    <tr style=\"text-align: right;\">\n",
       "      <th></th>\n",
       "      <th>Home</th>\n",
       "      <th>Location</th>\n",
       "      <th>Age</th>\n",
       "      <th>Area</th>\n",
       "      <th>beta</th>\n",
       "      <th>gamma</th>\n",
       "    </tr>\n",
       "  </thead>\n",
       "  <tbody>\n",
       "    <tr>\n",
       "      <td>0</td>\n",
       "      <td>ALL</td>\n",
       "      <td>ALL</td>\n",
       "      <td>ALL</td>\n",
       "      <td>1</td>\n",
       "      <td>0.01</td>\n",
       "      <td>0.03</td>\n",
       "    </tr>\n",
       "  </tbody>\n",
       "</table>\n",
       "</div>"
      ],
      "text/plain": [
       "  Home Location  Age  Area  beta  gamma\n",
       "0  ALL      ALL  ALL     1  0.01   0.03"
      ]
     },
     "execution_count": 3,
     "metadata": {},
     "output_type": "execute_result"
    }
   ],
   "source": [
    "pd.read_csv('./SIR_single_node/node_parameters.csv')"
   ]
  },
  {
   "cell_type": "markdown",
   "metadata": {},
   "source": [
    "Here we have set $\\beta_{ij}^\\alpha = 0.01$ and $\\gamma_{ij}^\\alpha = 0.03$ for all nodes $(\\alpha, i, j)$. We have also set the area to $A_i = 1km^2$ for all locations $i$. The area is used in PyRossGeo to scale the infectivity of the SIR dynamics with population density.\n",
    "\n",
    "Recall that a *node* in PyRossGeo is not a geographical location, but rather the 3-tuple $(\\alpha, i, j)$, corresponding to age-group, residence and location. In other words, PyRossGeo not only keeps track of how many people populate each location $j$, but also where they live, and what age they are.\n",
    "\n",
    "The parameters of the commuterverse is set in a similar way, using `cnode_parameters.csv`."
   ]
  },
  {
   "cell_type": "code",
   "execution_count": 4,
   "metadata": {},
   "outputs": [
    {
     "data": {
      "text/html": [
       "<div>\n",
       "<style scoped>\n",
       "    .dataframe tbody tr th:only-of-type {\n",
       "        vertical-align: middle;\n",
       "    }\n",
       "\n",
       "    .dataframe tbody tr th {\n",
       "        vertical-align: top;\n",
       "    }\n",
       "\n",
       "    .dataframe thead th {\n",
       "        text-align: right;\n",
       "    }\n",
       "</style>\n",
       "<table border=\"1\" class=\"dataframe\">\n",
       "  <thead>\n",
       "    <tr style=\"text-align: right;\">\n",
       "      <th></th>\n",
       "      <th>Home</th>\n",
       "      <th>From</th>\n",
       "      <th>To</th>\n",
       "      <th>Age</th>\n",
       "      <th>Area</th>\n",
       "      <th>beta</th>\n",
       "      <th>gamma</th>\n",
       "    </tr>\n",
       "  </thead>\n",
       "  <tbody>\n",
       "    <tr>\n",
       "      <td>0</td>\n",
       "      <td>ALL</td>\n",
       "      <td>ALL</td>\n",
       "      <td>ALL</td>\n",
       "      <td>ALL</td>\n",
       "      <td>1</td>\n",
       "      <td>0.01</td>\n",
       "      <td>0.03</td>\n",
       "    </tr>\n",
       "  </tbody>\n",
       "</table>\n",
       "</div>"
      ],
      "text/plain": [
       "  Home From   To  Age  Area  beta  gamma\n",
       "0  ALL  ALL  ALL  ALL     1  0.01   0.03"
      ]
     },
     "execution_count": 4,
     "metadata": {},
     "output_type": "execute_result"
    }
   ],
   "source": [
    "pd.read_csv('./SIR_single_node/cnode_parameters.csv')"
   ]
  },
  {
   "cell_type": "markdown",
   "metadata": {},
   "source": [
    "Since we are only modelling a single node, `cnode_parameters.csv` serves no purpose in the simulation. Regardless, the file is still required for the initialisation of the simulation."
   ]
  },
  {
   "cell_type": "markdown",
   "metadata": {},
   "source": [
    "### 1.1.3 Contact structure ([contact_matrices.json](https://github.com/lukastk/PyRossGeo/blob/master/docs/Configuration%20files.md#contact_matricesjson), [node_cmatrices.csv](https://github.com/lukastk/PyRossGeo/blob/master/docs/Configuration%20files.md#node_cmatricescsv) and [cnode_cmatrices.csv](https://github.com/lukastk/PyRossGeo/blob/master/docs/Configuration%20files.md#cnode_cmatricescsv))\n",
    "\n",
    "The contact matrices that are to be used in the simulation are defined in the file `contact_matrices.json`:"
   ]
  },
  {
   "cell_type": "code",
   "execution_count": 5,
   "metadata": {},
   "outputs": [
    {
     "name": "stdout",
     "output_type": "stream",
     "text": [
      "{\n",
      "    \"C_main\" : [\n",
      "                  [10, 5,  0,  0 ],\n",
      "                  [5,  10, 3,  0 ],\n",
      "                  [0,  3,  10, 6 ],\n",
      "                  [0,  0,  6,  10]\n",
      "               ]\n",
      "}\n",
      "\n"
     ]
    }
   ],
   "source": [
    "with open('./SIR_single_node/contact_matrices.json', 'r') as f:\n",
    "    print(f.read())"
   ]
  },
  {
   "cell_type": "markdown",
   "metadata": {},
   "source": [
    "Here we see that we have a single contact matrix `C_main`, with 4 age groups. Let's interpret $\\alpha=0,1,2,3,4$ as *child*, *young adult*, *adult* and *elderly* respectively. We can then read off from `C_main` that:\n",
    "- $C^\\text{home}_{\\mu \\mu}=10$. All age-groups have 10 encounters with members from their own group each day\n",
    "- $C^\\text{home}_{12}=C^\\text{home}_{21}=5$. Children and young adults have 5 mutual interactions every day\n",
    "- $C^\\text{home}_{32}=C^\\text{home}_{23}=3$. Young adults and adults have 3 mutual interactions every day\n",
    "- $C^\\text{home}_{43}=C^\\text{home}_{34}=6$. Adults and the elderly have 6 mutual interactions every day"
   ]
  },
  {
   "cell_type": "markdown",
   "metadata": {},
   "source": [
    "Which contact matrix to use for which node and commuter nodes is set using `node_cmatrices.csv` and `cnode_cmatrices.csv`."
   ]
  },
  {
   "cell_type": "code",
   "execution_count": 6,
   "metadata": {},
   "outputs": [
    {
     "data": {
      "text/html": [
       "<div>\n",
       "<style scoped>\n",
       "    .dataframe tbody tr th:only-of-type {\n",
       "        vertical-align: middle;\n",
       "    }\n",
       "\n",
       "    .dataframe tbody tr th {\n",
       "        vertical-align: top;\n",
       "    }\n",
       "\n",
       "    .dataframe thead th {\n",
       "        text-align: right;\n",
       "    }\n",
       "</style>\n",
       "<table border=\"1\" class=\"dataframe\">\n",
       "  <thead>\n",
       "    <tr style=\"text-align: right;\">\n",
       "      <th></th>\n",
       "      <th>Home</th>\n",
       "      <th>Location</th>\n",
       "      <th>S</th>\n",
       "      <th>I</th>\n",
       "      <th>R</th>\n",
       "    </tr>\n",
       "  </thead>\n",
       "  <tbody>\n",
       "    <tr>\n",
       "      <td>0</td>\n",
       "      <td>ALL</td>\n",
       "      <td>ALL</td>\n",
       "      <td>NaN</td>\n",
       "      <td>C_main</td>\n",
       "      <td>NaN</td>\n",
       "    </tr>\n",
       "  </tbody>\n",
       "</table>\n",
       "</div>"
      ],
      "text/plain": [
       "  Home Location   S       I   R\n",
       "0  ALL      ALL NaN  C_main NaN"
      ]
     },
     "execution_count": 6,
     "metadata": {},
     "output_type": "execute_result"
    }
   ],
   "source": [
    "pd.read_csv('./SIR_single_node/node_cmatrices.csv')"
   ]
  },
  {
   "cell_type": "code",
   "execution_count": 7,
   "metadata": {},
   "outputs": [
    {
     "data": {
      "text/html": [
       "<div>\n",
       "<style scoped>\n",
       "    .dataframe tbody tr th:only-of-type {\n",
       "        vertical-align: middle;\n",
       "    }\n",
       "\n",
       "    .dataframe tbody tr th {\n",
       "        vertical-align: top;\n",
       "    }\n",
       "\n",
       "    .dataframe thead th {\n",
       "        text-align: right;\n",
       "    }\n",
       "</style>\n",
       "<table border=\"1\" class=\"dataframe\">\n",
       "  <thead>\n",
       "    <tr style=\"text-align: right;\">\n",
       "      <th></th>\n",
       "      <th>Home</th>\n",
       "      <th>From</th>\n",
       "      <th>To</th>\n",
       "      <th>S</th>\n",
       "      <th>I</th>\n",
       "      <th>R</th>\n",
       "    </tr>\n",
       "  </thead>\n",
       "  <tbody>\n",
       "    <tr>\n",
       "      <td>0</td>\n",
       "      <td>ALL</td>\n",
       "      <td>ALL</td>\n",
       "      <td>ALL</td>\n",
       "      <td>NaN</td>\n",
       "      <td>C_main</td>\n",
       "      <td>NaN</td>\n",
       "    </tr>\n",
       "  </tbody>\n",
       "</table>\n",
       "</div>"
      ],
      "text/plain": [
       "  Home From   To   S       I   R\n",
       "0  ALL  ALL  ALL NaN  C_main NaN"
      ]
     },
     "execution_count": 7,
     "metadata": {},
     "output_type": "execute_result"
    }
   ],
   "source": [
    "pd.read_csv('./SIR_single_node/cnode_cmatrices.csv')"
   ]
  },
  {
   "cell_type": "markdown",
   "metadata": {},
   "source": [
    "Note the `NaN` under the $S$ and $R$ classes. This is because contact matrices are only applicable for infection classes (which is $I$ in this case)."
   ]
  },
  {
   "cell_type": "markdown",
   "metadata": {},
   "source": [
    "### 1.1.4 Populating the simulation ([node_populations.csv](https://github.com/lukastk/PyRossGeo/blob/master/docs/Configuration%20files.md#node_populationscsv))\n",
    "\n",
    "The population of each node is set using `node_populations.csv`."
   ]
  },
  {
   "cell_type": "code",
   "execution_count": 8,
   "metadata": {},
   "outputs": [
    {
     "data": {
      "text/html": [
       "<div>\n",
       "<style scoped>\n",
       "    .dataframe tbody tr th:only-of-type {\n",
       "        vertical-align: middle;\n",
       "    }\n",
       "\n",
       "    .dataframe tbody tr th {\n",
       "        vertical-align: top;\n",
       "    }\n",
       "\n",
       "    .dataframe thead th {\n",
       "        text-align: right;\n",
       "    }\n",
       "</style>\n",
       "<table border=\"1\" class=\"dataframe\">\n",
       "  <thead>\n",
       "    <tr style=\"text-align: right;\">\n",
       "      <th></th>\n",
       "      <th>Home</th>\n",
       "      <th>Location</th>\n",
       "      <th>S0</th>\n",
       "      <th>I0</th>\n",
       "      <th>R0</th>\n",
       "      <th>S1</th>\n",
       "      <th>I1</th>\n",
       "      <th>R1</th>\n",
       "      <th>S2</th>\n",
       "      <th>I2</th>\n",
       "      <th>R2</th>\n",
       "      <th>S3</th>\n",
       "      <th>I3</th>\n",
       "      <th>R3</th>\n",
       "    </tr>\n",
       "  </thead>\n",
       "  <tbody>\n",
       "    <tr>\n",
       "      <td>0</td>\n",
       "      <td>0</td>\n",
       "      <td>0</td>\n",
       "      <td>100</td>\n",
       "      <td>10</td>\n",
       "      <td>0</td>\n",
       "      <td>200</td>\n",
       "      <td>0</td>\n",
       "      <td>0</td>\n",
       "      <td>300</td>\n",
       "      <td>0</td>\n",
       "      <td>0</td>\n",
       "      <td>250</td>\n",
       "      <td>0</td>\n",
       "      <td>0</td>\n",
       "    </tr>\n",
       "  </tbody>\n",
       "</table>\n",
       "</div>"
      ],
      "text/plain": [
       "   Home  Location   S0  I0  R0   S1  I1  R1   S2  I2  R2   S3  I3  R3\n",
       "0     0         0  100  10   0  200   0   0  300   0   0  250   0   0"
      ]
     },
     "execution_count": 8,
     "metadata": {},
     "output_type": "execute_result"
    }
   ],
   "source": [
    "pd.read_csv('./SIR_single_node/node_populations.csv')"
   ]
  },
  {
   "cell_type": "markdown",
   "metadata": {},
   "source": [
    "Here we have assigned various numbers of susceptible children, young adults, adults and elderly to our single node. We have also seeded the node with a single infected child."
   ]
  },
  {
   "cell_type": "markdown",
   "metadata": {},
   "source": [
    "### 1.1.5 The commuter network ([commuter_networks.csv](https://github.com/lukastk/PyRossGeo/blob/master/docs/Configuration%20files.md#commuter_networkscsv))\n",
    "\n",
    "As we are only considering a single node in this example, the commuter network file is empty. The file is still required for the initialisation of the simulation."
   ]
  },
  {
   "cell_type": "code",
   "execution_count": 9,
   "metadata": {},
   "outputs": [
    {
     "data": {
      "text/html": [
       "<div>\n",
       "<style scoped>\n",
       "    .dataframe tbody tr th:only-of-type {\n",
       "        vertical-align: middle;\n",
       "    }\n",
       "\n",
       "    .dataframe tbody tr th {\n",
       "        vertical-align: top;\n",
       "    }\n",
       "\n",
       "    .dataframe thead th {\n",
       "        text-align: right;\n",
       "    }\n",
       "</style>\n",
       "<table border=\"1\" class=\"dataframe\">\n",
       "  <thead>\n",
       "    <tr style=\"text-align: right;\">\n",
       "      <th></th>\n",
       "      <th>Age</th>\n",
       "      <th>Home</th>\n",
       "      <th>From</th>\n",
       "      <th>To</th>\n",
       "      <th># to move</th>\n",
       "      <th>% to move</th>\n",
       "      <th>t1</th>\n",
       "      <th>t2</th>\n",
       "      <th>ct1</th>\n",
       "      <th>ct2</th>\n",
       "      <th>Allow S</th>\n",
       "      <th>Allow I</th>\n",
       "      <th>Allow R</th>\n",
       "    </tr>\n",
       "  </thead>\n",
       "  <tbody>\n",
       "  </tbody>\n",
       "</table>\n",
       "</div>"
      ],
      "text/plain": [
       "Empty DataFrame\n",
       "Columns: [Age, Home, From, To, # to move, % to move, t1, t2, ct1, ct2, Allow S, Allow I, Allow R]\n",
       "Index: []"
      ]
     },
     "execution_count": 9,
     "metadata": {},
     "output_type": "execute_result"
    }
   ],
   "source": [
    "pd.read_csv('./SIR_single_node/commuter_networks.csv')"
   ]
  },
  {
   "cell_type": "markdown",
   "metadata": {},
   "source": [
    "### 1.1.6 Initializing and running the simulation"
   ]
  },
  {
   "cell_type": "markdown",
   "metadata": {},
   "source": [
    "To run the simulation we first create an instance of the `pyrossgeo.Simulation` class, and then initialize it by passing the path of the folder containing the configuration files.\n",
    "\n",
    "**General note of caution:** <i>At the moment PyRossGeo does not have any checks in place to detect formatting errors in the configuration files. Any mistakes in the configuration files may lead to uncaught exceptions or unexpected simulation behaviour. This will be rectified in the future.</i>"
   ]
  },
  {
   "cell_type": "code",
   "execution_count": 10,
   "metadata": {},
   "outputs": [],
   "source": [
    "sim = pyrossgeo.Simulation()\n",
    "X_state = sim.initialize(sim_config_path='SIR_single_node')"
   ]
  },
  {
   "cell_type": "markdown",
   "metadata": {},
   "source": [
    "`X_state` is a one-dimensional vector containing the initial conditions of the simulation, as specified by the configuration files.\n",
    "\n",
    "An alternative way to initialize is by specifically passing the path for each file."
   ]
  },
  {
   "cell_type": "code",
   "execution_count": 11,
   "metadata": {},
   "outputs": [],
   "source": [
    "sim = pyrossgeo.Simulation()\n",
    "X_state = sim.initialize(model_dat = 'SIR_single_node/model.json',\n",
    "                         commuter_networks_dat = 'SIR_single_node/commuter_networks.csv',\n",
    "                         node_parameters_dat = 'SIR_single_node/node_parameters.csv',\n",
    "                         cnode_parameters_dat = 'SIR_single_node/cnode_parameters.csv',\n",
    "                         contact_matrices_dat = 'SIR_single_node/contact_matrices.json',\n",
    "                         node_cmatrices_dat = 'SIR_single_node/node_cmatrices.csv',\n",
    "                         cnode_cmatrices_dat = 'SIR_single_node/cnode_cmatrices.csv',\n",
    "                         node_populations_dat = 'SIR_single_node/node_populations.csv')"
   ]
  },
  {
   "cell_type": "markdown",
   "metadata": {},
   "source": [
    "Calling `pyrossgeo.Simulation.initialize` without any arguments is equivalent to setting `sim_config_path='.'`. \n",
    "\n",
    "To run the simulation, we simply define a starting time, an end time, a time-step, and call `pyrossgeo.Simulation.simulate`."
   ]
  },
  {
   "cell_type": "code",
   "execution_count": 12,
   "metadata": {},
   "outputs": [],
   "source": [
    "t_start = 0\n",
    "t_end = 200*24*60 # Time is measured in units of minutes\n",
    "dt = 10 # The time-step is 10 minutes\n",
    "\n",
    "sim_data = sim.simulate(X_state, t_start, t_end, dt, steps_per_save=1)"
   ]
  },
  {
   "cell_type": "markdown",
   "metadata": {},
   "source": [
    "By specifying `steps_per_save=1` the state of the simulation is saved every simulation step and returned in `sim_data`. More on the structure of the `sim_data` in the [subsequent tutorial](../tutorial2-handling-PyRossGeo-output/tutorial2-handling-PyRossGeo-output.ipynb)."
   ]
  },
  {
   "cell_type": "markdown",
   "metadata": {},
   "source": [
    "### 1.1.7 Plotting the results\n",
    "\n",
    "We can now plot the result of the simulation using the data returned in `sim_data`."
   ]
  },
  {
   "cell_type": "code",
   "execution_count": 13,
   "metadata": {},
   "outputs": [
    {
     "data": {
      "image/png": "[encoded data removed]",
      "text/plain": [
       "<Figure size 576x216 with 1 Axes>"
      ]
     },
     "metadata": {
      "needs_background": "light"
     },
     "output_type": "display_data"
    }
   ],
   "source": [
    "ts, node_data, cnode_data, location_data, community_data, network_data = pyrossgeo.utils.extract_simulation_data(sim_data)\n",
    "ts_days = ts / (24*60)\n",
    "\n",
    "plt.figure( figsize=(8,3) )\n",
    "\n",
    "S = np.sum(network_data[:,:,0], axis=1) # Sum over all age-groups\n",
    "I = np.sum(network_data[:,:,1], axis=1)\n",
    "R = np.sum(network_data[:,:,2], axis=1)\n",
    "N = S + I + R\n",
    "\n",
    "plt.plot(ts_days, S, label=\"S\")\n",
    "plt.plot(ts_days, I, label=\"I\")\n",
    "plt.plot(ts_days, R, label=\"R\")\n",
    "\n",
    "plt.legend(loc='upper right', fontsize=12)\n",
    "plt.xlabel('Days')\n",
    "plt.show()"
   ]
  },
  {
   "cell_type": "markdown",
   "metadata": {},
   "source": [
    "Plotting the individual age groups:"
   ]
  },
  {
   "cell_type": "code",
   "execution_count": 14,
   "metadata": {},
   "outputs": [
    {
     "data": {
      "image/png": "[encoded data removed]",
      "text/plain": [
       "<Figure size 1008x360 with 1 Axes>"
      ]
     },
     "metadata": {
      "needs_background": "light"
     },
     "output_type": "display_data"
    }
   ],
   "source": [
    "plt.figure( figsize=(14,5) )\n",
    "\n",
    "S0 = network_data[:,0,0]\n",
    "I0 = network_data[:,0,1]\n",
    "R0 = network_data[:,0,2]\n",
    "S1 = network_data[:,1,0]\n",
    "I1 = network_data[:,1,1]\n",
    "R1 = network_data[:,1,2]\n",
    "S2 = network_data[:,2,0]\n",
    "I2 = network_data[:,2,1]\n",
    "R2 = network_data[:,2,2]\n",
    "S3 = network_data[:,3,0]\n",
    "I3 = network_data[:,3,1]\n",
    "R3 = network_data[:,3,2]\n",
    "\n",
    "plt.plot(ts_days, S0, label=\"S0\")\n",
    "plt.plot(ts_days, I0, label=\"I0\")\n",
    "plt.plot(ts_days, R0, label=\"R0\")\n",
    "plt.plot(ts_days, S1, label=\"S1\")\n",
    "plt.plot(ts_days, I1, label=\"I1\")\n",
    "plt.plot(ts_days, R1, label=\"R1\")\n",
    "plt.plot(ts_days, S2, label=\"S2\")\n",
    "plt.plot(ts_days, I2, label=\"I2\")\n",
    "plt.plot(ts_days, R2, label=\"R2\")\n",
    "plt.plot(ts_days, S3, label=\"S3\")\n",
    "plt.plot(ts_days, I3, label=\"I3\")\n",
    "plt.plot(ts_days, R3, label=\"R3\")\n",
    "\n",
    "plt.legend(loc='upper right', fontsize=12)\n",
    "plt.xlabel('Days')\n",
    "plt.show()"
   ]
  },
  {
   "cell_type": "markdown",
   "metadata": {},
   "source": [
    "## 1.2 Age-structured SEAIR on three nodes\n",
    "\n",
    "Now that we have covered the simulation of single-node SIR, we can go on to more interesting things.\n",
    "\n"
   ]
  },
  {
   "cell_type": "markdown",
   "metadata": {},
   "source": [
    "### 1.2.1 Configuration files\n",
    "\n",
    "The SEAIR model is defined as\n",
    "\n",
    "$$\n",
    "\\begin{aligned}\n",
    "\\dot{S}^\\mu & = - \\lambda^\\mu(t) S^\\mu  \\\\\n",
    "\\dot{E}^\\mu & = \\lambda^\\mu(t) S^\\mu - \\gamma_E E^\\mu \\\\\n",
    "\\dot{A}^\\mu & = \\gamma_E E^\\mu - \\gamma_A A^\\mu \\\\\n",
    "\\dot{I}^\\mu & =  \\gamma_A A^\\mu  - \\gamma_I I^\\mu \\\\\n",
    "\\dot{R}^\\mu & = \\gamma_I I^\\mu\n",
    "\\end{aligned}\n",
    "$$\n",
    "\n",
    "where\n",
    "\n",
    "$$\n",
    "\\lambda^\\mu(t) = \\sum_\\nu \\left( \\beta_I C^I_{\\mu\\nu} \\frac{I^\\nu}{N^\\nu} + \\beta_A C^A_{\\mu\\nu} \\frac{A^\\nu}{N^\\nu} \\right)\n",
    "$$"
   ]
  },
  {
   "cell_type": "code",
   "execution_count": 15,
   "metadata": {},
   "outputs": [
    {
     "name": "stdout",
     "output_type": "stream",
     "text": [
      "{\n",
      "    \"settings\" : {\n",
      "        \"classes\" : [\"S\", \"E\", \"A\", \"I\", \"R\"],\n",
      "        \"stochastic_threshold_from_below\" : [1000, 1000, 1000, 1000, 1000],\n",
      "        \"stochastic_threshold_from_above\" : [500, 500, 500, 500, 500]\n",
      "    },\n",
      "\n",
      "    \"S\" : {\n",
      "        \"linear\"    : [],\n",
      "        \"infection\" : [ [\"I\", \"-betaI\"], [\"A\", \"-betaA\"] ]\n",
      "    },\n",
      "\n",
      "    \"E\" : {\n",
      "        \"linear\"    : [ [\"E\", \"-gammaE\"] ],\n",
      "        \"infection\" : [ [\"I\", \"betaI\"], [\"A\", \"betaA\"] ]\n",
      "    },\n",
      "\n",
      "    \"A\" : {\n",
      "        \"linear\"    : [ [\"E\", \"gammaE\"], [\"A\", \"-gammaA\"] ],\n",
      "        \"infection\" : []\n",
      "    },\n",
      "\n",
      "    \"I\" : {\n",
      "        \"linear\"    : [ [\"A\", \"gammaA\"], [\"I\", \"-gammaI\"] ],\n",
      "        \"infection\" : []\n",
      "    },\n",
      "\n",
      "    \"R\" : {\n",
      "        \"linear\"    : [ [\"I\", \"gammaI\"] ],\n",
      "        \"infection\" : []\n",
      "    }\n",
      "}\n",
      "\n"
     ]
    }
   ],
   "source": [
    "with open('./SEAIR_network/model.json', 'r') as f:\n",
    "    print(f.read())"
   ]
  },
  {
   "cell_type": "markdown",
   "metadata": {},
   "source": [
    "The model parameters for each node"
   ]
  },
  {
   "cell_type": "code",
   "execution_count": 16,
   "metadata": {},
   "outputs": [
    {
     "data": {
      "text/html": [
       "<div>\n",
       "<style scoped>\n",
       "    .dataframe tbody tr th:only-of-type {\n",
       "        vertical-align: middle;\n",
       "    }\n",
       "\n",
       "    .dataframe tbody tr th {\n",
       "        vertical-align: top;\n",
       "    }\n",
       "\n",
       "    .dataframe thead th {\n",
       "        text-align: right;\n",
       "    }\n",
       "</style>\n",
       "<table border=\"1\" class=\"dataframe\">\n",
       "  <thead>\n",
       "    <tr style=\"text-align: right;\">\n",
       "      <th></th>\n",
       "      <th>Home</th>\n",
       "      <th>Loc</th>\n",
       "      <th>Age</th>\n",
       "      <th>Area</th>\n",
       "      <th>betaI</th>\n",
       "      <th>betaA</th>\n",
       "      <th>gammaE</th>\n",
       "      <th>gammaA</th>\n",
       "      <th>gammaI</th>\n",
       "    </tr>\n",
       "  </thead>\n",
       "  <tbody>\n",
       "    <tr>\n",
       "      <td>0</td>\n",
       "      <td>ALL</td>\n",
       "      <td>ALL</td>\n",
       "      <td>ALL</td>\n",
       "      <td>1</td>\n",
       "      <td>0.02</td>\n",
       "      <td>0.02</td>\n",
       "      <td>0.03</td>\n",
       "      <td>0.03</td>\n",
       "      <td>0.03</td>\n",
       "    </tr>\n",
       "  </tbody>\n",
       "</table>\n",
       "</div>"
      ],
      "text/plain": [
       "  Home  Loc  Age  Area  betaI  betaA  gammaE  gammaA  gammaI\n",
       "0  ALL  ALL  ALL     1   0.02   0.02    0.03    0.03    0.03"
      ]
     },
     "execution_count": 16,
     "metadata": {},
     "output_type": "execute_result"
    }
   ],
   "source": [
    "pd.read_csv('./SEAIR_network/node_parameters.csv')"
   ]
  },
  {
   "cell_type": "markdown",
   "metadata": {},
   "source": [
    "The model parameters for each commuter node. We set the area of commuter nodes to be $0.1 km^2$ to reflect the fact that commutes tend to pack people more closely."
   ]
  },
  {
   "cell_type": "code",
   "execution_count": 17,
   "metadata": {},
   "outputs": [
    {
     "data": {
      "text/html": [
       "<div>\n",
       "<style scoped>\n",
       "    .dataframe tbody tr th:only-of-type {\n",
       "        vertical-align: middle;\n",
       "    }\n",
       "\n",
       "    .dataframe tbody tr th {\n",
       "        vertical-align: top;\n",
       "    }\n",
       "\n",
       "    .dataframe thead th {\n",
       "        text-align: right;\n",
       "    }\n",
       "</style>\n",
       "<table border=\"1\" class=\"dataframe\">\n",
       "  <thead>\n",
       "    <tr style=\"text-align: right;\">\n",
       "      <th></th>\n",
       "      <th>Home</th>\n",
       "      <th>From</th>\n",
       "      <th>To</th>\n",
       "      <th>Age</th>\n",
       "      <th>Area</th>\n",
       "      <th>betaI</th>\n",
       "      <th>betaA</th>\n",
       "      <th>gammaE</th>\n",
       "      <th>gammaA</th>\n",
       "      <th>gammaI</th>\n",
       "    </tr>\n",
       "  </thead>\n",
       "  <tbody>\n",
       "    <tr>\n",
       "      <td>0</td>\n",
       "      <td>ALL</td>\n",
       "      <td>ALL</td>\n",
       "      <td>ALL</td>\n",
       "      <td>ALL</td>\n",
       "      <td>0.1</td>\n",
       "      <td>0.02</td>\n",
       "      <td>0.02</td>\n",
       "      <td>0.01</td>\n",
       "      <td>0.01</td>\n",
       "      <td>0.01</td>\n",
       "    </tr>\n",
       "  </tbody>\n",
       "</table>\n",
       "</div>"
      ],
      "text/plain": [
       "  Home From   To  Age  Area  betaI  betaA  gammaE  gammaA  gammaI\n",
       "0  ALL  ALL  ALL  ALL   0.1   0.02   0.02    0.01    0.01    0.01"
      ]
     },
     "execution_count": 17,
     "metadata": {},
     "output_type": "execute_result"
    }
   ],
   "source": [
    "pd.read_csv('./SEAIR_network/cnode_parameters.csv')"
   ]
  },
  {
   "cell_type": "markdown",
   "metadata": {},
   "source": [
    "We define three different contact matrices, corresponding to people who are currently at their home nodes, are away, or are commuting."
   ]
  },
  {
   "cell_type": "code",
   "execution_count": 18,
   "metadata": {},
   "outputs": [
    {
     "name": "stdout",
     "output_type": "stream",
     "text": [
      "{\n",
      "    \"C_home\" : [\n",
      "        [7, 7, 7],\n",
      "        [7, 7, 7],\n",
      "        [7, 7, 7]\n",
      "    ],\n",
      "\n",
      "    \"C_away\" : [\n",
      "        [12.0, 10.5, 10.5],\n",
      "        [10.5, 12.0, 10.5],\n",
      "        [10.5, 10.5, 12.0]\n",
      "    ],\n",
      "\n",
      "    \"C_transport\" : [\n",
      "        [20, 20, 20],\n",
      "        [20, 20, 20],\n",
      "        [20, 20, 20]\n",
      "    ]\n",
      "}\n",
      "\n"
     ]
    }
   ],
   "source": [
    "with open('./SEAIR_network/contact_matrices.json', 'r') as f:\n",
    "    print(f.read())"
   ]
  },
  {
   "cell_type": "markdown",
   "metadata": {},
   "source": [
    "Set contact matrices for each node"
   ]
  },
  {
   "cell_type": "code",
   "execution_count": 19,
   "metadata": {},
   "outputs": [
    {
     "data": {
      "text/html": [
       "<div>\n",
       "<style scoped>\n",
       "    .dataframe tbody tr th:only-of-type {\n",
       "        vertical-align: middle;\n",
       "    }\n",
       "\n",
       "    .dataframe tbody tr th {\n",
       "        vertical-align: top;\n",
       "    }\n",
       "\n",
       "    .dataframe thead th {\n",
       "        text-align: right;\n",
       "    }\n",
       "</style>\n",
       "<table border=\"1\" class=\"dataframe\">\n",
       "  <thead>\n",
       "    <tr style=\"text-align: right;\">\n",
       "      <th></th>\n",
       "      <th>Home</th>\n",
       "      <th>Location</th>\n",
       "      <th>S</th>\n",
       "      <th>E</th>\n",
       "      <th>A</th>\n",
       "      <th>I</th>\n",
       "      <th>R</th>\n",
       "    </tr>\n",
       "  </thead>\n",
       "  <tbody>\n",
       "    <tr>\n",
       "      <td>0</td>\n",
       "      <td>ALL</td>\n",
       "      <td>ALL</td>\n",
       "      <td>NaN</td>\n",
       "      <td>NaN</td>\n",
       "      <td>C_away</td>\n",
       "      <td>C_away</td>\n",
       "      <td>NaN</td>\n",
       "    </tr>\n",
       "    <tr>\n",
       "      <td>1</td>\n",
       "      <td>ALL</td>\n",
       "      <td>HOME</td>\n",
       "      <td>NaN</td>\n",
       "      <td>NaN</td>\n",
       "      <td>C_home</td>\n",
       "      <td>C_home</td>\n",
       "      <td>NaN</td>\n",
       "    </tr>\n",
       "  </tbody>\n",
       "</table>\n",
       "</div>"
      ],
      "text/plain": [
       "  Home Location   S   E       A       I   R\n",
       "0  ALL      ALL NaN NaN  C_away  C_away NaN\n",
       "1  ALL     HOME NaN NaN  C_home  C_home NaN"
      ]
     },
     "execution_count": 19,
     "metadata": {},
     "output_type": "execute_result"
    }
   ],
   "source": [
    "pd.read_csv('./SEAIR_network/node_cmatrices.csv')"
   ]
  },
  {
   "cell_type": "markdown",
   "metadata": {},
   "source": [
    "Note the keyword `HOME` in the `Location` column, which signifies that the value in the `Home` column should be copied. So the second row matches all nodes $(\\alpha,i,j)$ where $i=j$.\n",
    "\n",
    "Set contact matrices for each commuter node"
   ]
  },
  {
   "cell_type": "code",
   "execution_count": 20,
   "metadata": {},
   "outputs": [
    {
     "data": {
      "text/html": [
       "<div>\n",
       "<style scoped>\n",
       "    .dataframe tbody tr th:only-of-type {\n",
       "        vertical-align: middle;\n",
       "    }\n",
       "\n",
       "    .dataframe tbody tr th {\n",
       "        vertical-align: top;\n",
       "    }\n",
       "\n",
       "    .dataframe thead th {\n",
       "        text-align: right;\n",
       "    }\n",
       "</style>\n",
       "<table border=\"1\" class=\"dataframe\">\n",
       "  <thead>\n",
       "    <tr style=\"text-align: right;\">\n",
       "      <th></th>\n",
       "      <th>Home</th>\n",
       "      <th>From</th>\n",
       "      <th>To</th>\n",
       "      <th>S</th>\n",
       "      <th>E</th>\n",
       "      <th>A</th>\n",
       "      <th>I</th>\n",
       "      <th>R</th>\n",
       "    </tr>\n",
       "  </thead>\n",
       "  <tbody>\n",
       "    <tr>\n",
       "      <td>0</td>\n",
       "      <td>ALL</td>\n",
       "      <td>ALL</td>\n",
       "      <td>ALL</td>\n",
       "      <td>NaN</td>\n",
       "      <td>NaN</td>\n",
       "      <td>C_transport</td>\n",
       "      <td>C_transport</td>\n",
       "      <td>NaN</td>\n",
       "    </tr>\n",
       "  </tbody>\n",
       "</table>\n",
       "</div>"
      ],
      "text/plain": [
       "  Home From   To   S   E            A            I   R\n",
       "0  ALL  ALL  ALL NaN NaN  C_transport  C_transport NaN"
      ]
     },
     "execution_count": 20,
     "metadata": {},
     "output_type": "execute_result"
    }
   ],
   "source": [
    "pd.read_csv('./SEAIR_network/cnode_cmatrices.csv')"
   ]
  },
  {
   "cell_type": "markdown",
   "metadata": {},
   "source": [
    "Node populations"
   ]
  },
  {
   "cell_type": "code",
   "execution_count": 21,
   "metadata": {},
   "outputs": [
    {
     "data": {
      "text/html": [
       "<div>\n",
       "<style scoped>\n",
       "    .dataframe tbody tr th:only-of-type {\n",
       "        vertical-align: middle;\n",
       "    }\n",
       "\n",
       "    .dataframe tbody tr th {\n",
       "        vertical-align: top;\n",
       "    }\n",
       "\n",
       "    .dataframe thead th {\n",
       "        text-align: right;\n",
       "    }\n",
       "</style>\n",
       "<table border=\"1\" class=\"dataframe\">\n",
       "  <thead>\n",
       "    <tr style=\"text-align: right;\">\n",
       "      <th></th>\n",
       "      <th>Home</th>\n",
       "      <th>Location</th>\n",
       "      <th>S0</th>\n",
       "      <th>E0</th>\n",
       "      <th>A0</th>\n",
       "      <th>I0</th>\n",
       "      <th>R0</th>\n",
       "      <th>S1</th>\n",
       "      <th>E1</th>\n",
       "      <th>A1</th>\n",
       "      <th>I1</th>\n",
       "      <th>R1</th>\n",
       "      <th>S2</th>\n",
       "      <th>E2</th>\n",
       "      <th>A2</th>\n",
       "      <th>I2</th>\n",
       "      <th>R2</th>\n",
       "    </tr>\n",
       "  </thead>\n",
       "  <tbody>\n",
       "    <tr>\n",
       "      <td>0</td>\n",
       "      <td>0</td>\n",
       "      <td>0</td>\n",
       "      <td>1000</td>\n",
       "      <td>100</td>\n",
       "      <td>0</td>\n",
       "      <td>0</td>\n",
       "      <td>0</td>\n",
       "      <td>2000</td>\n",
       "      <td>0</td>\n",
       "      <td>0</td>\n",
       "      <td>0</td>\n",
       "      <td>0</td>\n",
       "      <td>500</td>\n",
       "      <td>0</td>\n",
       "      <td>0</td>\n",
       "      <td>0</td>\n",
       "      <td>0</td>\n",
       "    </tr>\n",
       "    <tr>\n",
       "      <td>1</td>\n",
       "      <td>1</td>\n",
       "      <td>1</td>\n",
       "      <td>700</td>\n",
       "      <td>0</td>\n",
       "      <td>0</td>\n",
       "      <td>0</td>\n",
       "      <td>0</td>\n",
       "      <td>1200</td>\n",
       "      <td>0</td>\n",
       "      <td>0</td>\n",
       "      <td>0</td>\n",
       "      <td>0</td>\n",
       "      <td>2000</td>\n",
       "      <td>0</td>\n",
       "      <td>0</td>\n",
       "      <td>0</td>\n",
       "      <td>0</td>\n",
       "    </tr>\n",
       "    <tr>\n",
       "      <td>2</td>\n",
       "      <td>2</td>\n",
       "      <td>2</td>\n",
       "      <td>2000</td>\n",
       "      <td>0</td>\n",
       "      <td>0</td>\n",
       "      <td>0</td>\n",
       "      <td>0</td>\n",
       "      <td>3000</td>\n",
       "      <td>0</td>\n",
       "      <td>0</td>\n",
       "      <td>0</td>\n",
       "      <td>0</td>\n",
       "      <td>1000</td>\n",
       "      <td>0</td>\n",
       "      <td>0</td>\n",
       "      <td>0</td>\n",
       "      <td>0</td>\n",
       "    </tr>\n",
       "  </tbody>\n",
       "</table>\n",
       "</div>"
      ],
      "text/plain": [
       "   Home  Location    S0   E0  A0  I0  R0    S1  E1  A1  I1  R1    S2  E2  A2  \\\n",
       "0     0         0  1000  100   0   0   0  2000   0   0   0   0   500   0   0   \n",
       "1     1         1   700    0   0   0   0  1200   0   0   0   0  2000   0   0   \n",
       "2     2         2  2000    0   0   0   0  3000   0   0   0   0  1000   0   0   \n",
       "\n",
       "   I2  R2  \n",
       "0   0   0  \n",
       "1   0   0  \n",
       "2   0   0  "
      ]
     },
     "execution_count": 21,
     "metadata": {},
     "output_type": "execute_result"
    }
   ],
   "source": [
    "pd.read_csv('./SEAIR_network/node_populations.csv')"
   ]
  },
  {
   "cell_type": "markdown",
   "metadata": {},
   "source": [
    "\n"
   ]
  },
  {
   "cell_type": "markdown",
   "metadata": {},
   "source": [
    "#### 1.2.1.1 Defining the commuter network\n",
    "\n",
    "We will be using the commtuer network below:"
   ]
  },
  {
   "cell_type": "code",
   "execution_count": 22,
   "metadata": {},
   "outputs": [
    {
     "data": {
      "text/html": [
       "<div>\n",
       "<style scoped>\n",
       "    .dataframe tbody tr th:only-of-type {\n",
       "        vertical-align: middle;\n",
       "    }\n",
       "\n",
       "    .dataframe tbody tr th {\n",
       "        vertical-align: top;\n",
       "    }\n",
       "\n",
       "    .dataframe thead th {\n",
       "        text-align: right;\n",
       "    }\n",
       "</style>\n",
       "<table border=\"1\" class=\"dataframe\">\n",
       "  <thead>\n",
       "    <tr style=\"text-align: right;\">\n",
       "      <th></th>\n",
       "      <th>Home</th>\n",
       "      <th>From</th>\n",
       "      <th>To</th>\n",
       "      <th>Age</th>\n",
       "      <th># to move</th>\n",
       "      <th>% to move</th>\n",
       "      <th>t1</th>\n",
       "      <th>t2</th>\n",
       "      <th>ct1</th>\n",
       "      <th>ct2</th>\n",
       "      <th>Allow S</th>\n",
       "      <th>Allow E</th>\n",
       "      <th>Allow A</th>\n",
       "      <th>Allow I</th>\n",
       "      <th>Allow R</th>\n",
       "    </tr>\n",
       "  </thead>\n",
       "  <tbody>\n",
       "    <tr>\n",
       "      <td>0</td>\n",
       "      <td>0</td>\n",
       "      <td>0</td>\n",
       "      <td>1</td>\n",
       "      <td>0</td>\n",
       "      <td>210</td>\n",
       "      <td>-1</td>\n",
       "      <td>7</td>\n",
       "      <td>8</td>\n",
       "      <td>8.0</td>\n",
       "      <td>9.0</td>\n",
       "      <td>1</td>\n",
       "      <td>1</td>\n",
       "      <td>1</td>\n",
       "      <td>0</td>\n",
       "      <td>1</td>\n",
       "    </tr>\n",
       "    <tr>\n",
       "      <td>1</td>\n",
       "      <td>0</td>\n",
       "      <td>1</td>\n",
       "      <td>0</td>\n",
       "      <td>0</td>\n",
       "      <td>-1</td>\n",
       "      <td>1</td>\n",
       "      <td>17</td>\n",
       "      <td>18</td>\n",
       "      <td>18.0</td>\n",
       "      <td>19.0</td>\n",
       "      <td>1</td>\n",
       "      <td>1</td>\n",
       "      <td>1</td>\n",
       "      <td>1</td>\n",
       "      <td>1</td>\n",
       "    </tr>\n",
       "    <tr>\n",
       "      <td>2</td>\n",
       "      <td>0</td>\n",
       "      <td>0</td>\n",
       "      <td>2</td>\n",
       "      <td>1</td>\n",
       "      <td>500</td>\n",
       "      <td>-1</td>\n",
       "      <td>9</td>\n",
       "      <td>10</td>\n",
       "      <td>10.0</td>\n",
       "      <td>11.0</td>\n",
       "      <td>1</td>\n",
       "      <td>1</td>\n",
       "      <td>1</td>\n",
       "      <td>0</td>\n",
       "      <td>1</td>\n",
       "    </tr>\n",
       "    <tr>\n",
       "      <td>3</td>\n",
       "      <td>0</td>\n",
       "      <td>2</td>\n",
       "      <td>0</td>\n",
       "      <td>1</td>\n",
       "      <td>-1</td>\n",
       "      <td>1</td>\n",
       "      <td>18</td>\n",
       "      <td>19</td>\n",
       "      <td>19.0</td>\n",
       "      <td>20.0</td>\n",
       "      <td>1</td>\n",
       "      <td>1</td>\n",
       "      <td>1</td>\n",
       "      <td>1</td>\n",
       "      <td>1</td>\n",
       "    </tr>\n",
       "    <tr>\n",
       "      <td>4</td>\n",
       "      <td>1</td>\n",
       "      <td>1</td>\n",
       "      <td>0</td>\n",
       "      <td>1</td>\n",
       "      <td>100</td>\n",
       "      <td>-1</td>\n",
       "      <td>6</td>\n",
       "      <td>7</td>\n",
       "      <td>7.5</td>\n",
       "      <td>9.5</td>\n",
       "      <td>1</td>\n",
       "      <td>1</td>\n",
       "      <td>1</td>\n",
       "      <td>0</td>\n",
       "      <td>1</td>\n",
       "    </tr>\n",
       "    <tr>\n",
       "      <td>5</td>\n",
       "      <td>1</td>\n",
       "      <td>0</td>\n",
       "      <td>1</td>\n",
       "      <td>1</td>\n",
       "      <td>-1</td>\n",
       "      <td>1</td>\n",
       "      <td>16</td>\n",
       "      <td>17</td>\n",
       "      <td>17.0</td>\n",
       "      <td>18.0</td>\n",
       "      <td>1</td>\n",
       "      <td>1</td>\n",
       "      <td>1</td>\n",
       "      <td>1</td>\n",
       "      <td>1</td>\n",
       "    </tr>\n",
       "    <tr>\n",
       "      <td>6</td>\n",
       "      <td>2</td>\n",
       "      <td>2</td>\n",
       "      <td>1</td>\n",
       "      <td>0</td>\n",
       "      <td>300</td>\n",
       "      <td>-1</td>\n",
       "      <td>5</td>\n",
       "      <td>6</td>\n",
       "      <td>6.0</td>\n",
       "      <td>7.0</td>\n",
       "      <td>1</td>\n",
       "      <td>1</td>\n",
       "      <td>1</td>\n",
       "      <td>0</td>\n",
       "      <td>1</td>\n",
       "    </tr>\n",
       "    <tr>\n",
       "      <td>7</td>\n",
       "      <td>2</td>\n",
       "      <td>1</td>\n",
       "      <td>2</td>\n",
       "      <td>0</td>\n",
       "      <td>-1</td>\n",
       "      <td>1</td>\n",
       "      <td>20</td>\n",
       "      <td>21</td>\n",
       "      <td>21.0</td>\n",
       "      <td>22.0</td>\n",
       "      <td>1</td>\n",
       "      <td>1</td>\n",
       "      <td>1</td>\n",
       "      <td>1</td>\n",
       "      <td>1</td>\n",
       "    </tr>\n",
       "  </tbody>\n",
       "</table>\n",
       "</div>"
      ],
      "text/plain": [
       "   Home  From  To  Age  # to move  % to move  t1  t2   ct1   ct2  Allow S  \\\n",
       "0     0     0   1    0        210         -1   7   8   8.0   9.0        1   \n",
       "1     0     1   0    0         -1          1  17  18  18.0  19.0        1   \n",
       "2     0     0   2    1        500         -1   9  10  10.0  11.0        1   \n",
       "3     0     2   0    1         -1          1  18  19  19.0  20.0        1   \n",
       "4     1     1   0    1        100         -1   6   7   7.5   9.5        1   \n",
       "5     1     0   1    1         -1          1  16  17  17.0  18.0        1   \n",
       "6     2     2   1    0        300         -1   5   6   6.0   7.0        1   \n",
       "7     2     1   2    0         -1          1  20  21  21.0  22.0        1   \n",
       "\n",
       "   Allow E  Allow A  Allow I  Allow R  \n",
       "0        1        1        0        1  \n",
       "1        1        1        1        1  \n",
       "2        1        1        0        1  \n",
       "3        1        1        1        1  \n",
       "4        1        1        0        1  \n",
       "5        1        1        1        1  \n",
       "6        1        1        0        1  \n",
       "7        1        1        1        1  "
      ]
     },
     "execution_count": 22,
     "metadata": {},
     "output_type": "execute_result"
    }
   ],
   "source": [
    "pd.read_csv('./SEAIR_network/commuter_networks.csv')"
   ]
  },
  {
   "cell_type": "markdown",
   "metadata": {},
   "source": [
    "Each row of the file defines a specific commute that occurs every day.\n",
    "\n",
    "**First row:**\n",
    "\n",
    "- It defines a commute that takes 210 people from node $(\\alpha=0,i=0,j=0)$ to the node $(\\alpha=0,i=0,j=1)$. In other words, it moves 210 people who live on location 0, and are currently at location 0, to location 1.\n",
    "- The amount of people that are commuting is specified by the `# to move` column. Alternatively, we can also specify percentages of populations to commute using the `% to move`. It's important to note that both columns cannot be used at the same time. The column that is not used must be set to `-1`.\n",
    "- The departure window is between `t1=7` and `t2=8`, meaning that people will start leaving at `t1`, and by `t2` all 210 people will have left.$^*$ The transport is modeled using a Gaussian pulse function (see the [model description](model.pdf) for more details). Time is given in units of hours, and should be in the range of a single day `[0, 24]`.\n",
    "- People leaving the $(0,0,0)$ node will first enter the commuting node $(0,0,0 \\to 1)$. The latter should be read as *the commuting node of residents of location 0, of age group 0, who are travelling from location 0 to 1*.\n",
    "- The arrival window is between `ct1=8` and `ct2=9`. At `ct1` people will start to be moved from the commuting node to the destination node $(0,0,1)$, by $ct2$ everyone will have arrived.\n",
    "- Using `Allow S`, `Allow E`... we can block certain classes from going on the commute. We have set `Allow I` to 0, in order to model the fact that symptomatic infecteds are likely to stay home and recuperate.\n",
    "\n",
    "**Second row:**\n",
    "\n",
    "- This is the return commute for the people who went to node $(0,0,1)$ from $(0,0,0)$ in the morning. We see that people will start leaving at 6PM, and arrive at home at 7PM.\n",
    "- As opposed to the morning commute, we specify that 100% of the people at node $(0,0,1)$ should return to $(0,0,0)$.\n",
    "- Note that we allow members of all classes to return home. This is important, as we would expect people who catch the virus away from home would return.\n",
    "\n",
    "The rest of the rows defines commutes for other age classes and locations.\n",
    "\n",
    "<i>$^*$ In practice, it is possible that fewer than the specified amount of people will travel. This is because of the fact that we are disallowing infected classes to move across the network (for example, if all residents of 0 are currently infected, then no people should be moving). See the [model description](https://github.com/lukastk/PyRossGeo/blob/master/docs/model.pdf) for more details on this.</i>"
   ]
  },
  {
   "cell_type": "markdown",
   "metadata": {},
   "source": [
    "Note that we always specify `# to move` in the forward commute, and `% to move` in the return to commute. In most use-cases this is how commuting networks should be constructed. The reason why we specify percentages rather than absolute numbers in the return commute is because we might not know at run-time how many people actually went on the morning commute, due to the fact that we are barring certain classes from commuting."
   ]
  },
  {
   "cell_type": "markdown",
   "metadata": {},
   "source": [
    "### 1.2.2 Simulating the network\n",
    "\n",
    "Before we start the simulation, we will create an adapted time-stepping schedule for the simulation using `pyrossgeo.utils.get_dt_schedule`."
   ]
  },
  {
   "cell_type": "code",
   "execution_count": 23,
   "metadata": {},
   "outputs": [],
   "source": [
    "ts, dts = pyrossgeo.utils.get_dt_schedule([\n",
    "    (0,  2*60),     # Use a 2h time-step between 0-7\n",
    "    (5*60,  1),     # Use a 10min time-step between 5-11\n",
    "    (11*60, 2*60),  # Use a 2h time-step between 11-16\n",
    "    (16*60, 1),     # Use a 10min time-step between 16-22\n",
    "    (22*60, 2*60)   # Use a 2h time-step between 22-24\n",
    "], end_time=24*60)"
   ]
  },
  {
   "cell_type": "markdown",
   "metadata": {},
   "source": [
    "We pass a list of tuples `[(t0, dt0), (t1, dt1), ..., (tn, dtn)]`, and the function returns a tuple `(ts, dts)`, containing the corresponding times and the time-steps. Between `t0` and `t1`, the time-steps will be `dt0`. Between `t1` and `t2`, the time-steps will be `dt1`, and so on.\n",
    "\n",
    "As transport generally requires a larger time-step than the epidemics, we define the time-stepping schedule with a 10 minute time-step during the commuting hours, and a two hour time-step anytime else.\n",
    "\n",
    "We are now ready to run the simulation."
   ]
  },
  {
   "cell_type": "code",
   "execution_count": 24,
   "metadata": {},
   "outputs": [],
   "source": [
    "t_start = 0\n",
    "t_end = 24*60*300 # Run for 200 days\n",
    "\n",
    "sim = pyrossgeo.Simulation()\n",
    "X_state = sim.initialize(sim_config_path='SEAIR_network')\n",
    "\n",
    "sim_data = sim.simulate(X_state, t_start, t_end, dts, steps_per_save=1)"
   ]
  },
  {
   "cell_type": "markdown",
   "metadata": {},
   "source": [
    "Various relevant data can be extracted from the simulation output `sim_data` using the function `pyrossgeo.utils.extract_simulation_data`."
   ]
  },
  {
   "cell_type": "code",
   "execution_count": 25,
   "metadata": {},
   "outputs": [],
   "source": [
    "ts, node_data, cnode_data, location_data, community_data, network_data = pyrossgeo.utils.extract_simulation_data(sim_data)"
   ]
  },
  {
   "cell_type": "markdown",
   "metadata": {},
   "source": [
    "We can plot the epidemic for the network as a whole"
   ]
  },
  {
   "cell_type": "code",
   "execution_count": 26,
   "metadata": {},
   "outputs": [
    {
     "data": {
      "image/png": "[encoded data removed]",
      "text/plain": [
       "<Figure size 576x216 with 1 Axes>"
      ]
     },
     "metadata": {
      "needs_background": "light"
     },
     "output_type": "display_data"
    }
   ],
   "source": [
    "ts_days = ts / (24*60)\n",
    "\n",
    "plt.figure( figsize=(8,3) )\n",
    "\n",
    "S = np.sum(network_data[:,:,0], axis=1) # Sum over all age-groups\n",
    "E = np.sum(network_data[:,:,1], axis=1)\n",
    "A = np.sum(network_data[:,:,2], axis=1)\n",
    "I = np.sum(network_data[:,:,3], axis=1)\n",
    "R = np.sum(network_data[:,:,4], axis=1)\n",
    "\n",
    "plt.plot(ts_days, S, label=\"S\")\n",
    "plt.plot(ts_days, E, label=\"E\")\n",
    "plt.plot(ts_days, A, label=\"A\")\n",
    "plt.plot(ts_days, I, label=\"I\")\n",
    "plt.plot(ts_days, R, label=\"R\")\n",
    "\n",
    "plt.legend(loc='upper right', fontsize=12)\n",
    "plt.xlabel('Days')\n",
    "plt.show()"
   ]
  },
  {
   "cell_type": "markdown",
   "metadata": {},
   "source": [
    "We can plot for a single location."
   ]
  },
  {
   "cell_type": "code",
   "execution_count": 27,
   "metadata": {},
   "outputs": [
    {
     "data": {
      "image/png": "[encoded data removed]",
      "text/plain": [
       "<Figure size 576x216 with 1 Axes>"
      ]
     },
     "metadata": {
      "needs_background": "light"
     },
     "output_type": "display_data"
    }
   ],
   "source": [
    "ts_days = ts / (24*60)\n",
    "\n",
    "loc = 0\n",
    "\n",
    "plt.figure( figsize=(8,3) )\n",
    "\n",
    "S = np.sum(location_data[:,:,0,loc], axis=1)\n",
    "E = np.sum(location_data[:,:,1,loc], axis=1)\n",
    "A = np.sum(location_data[:,:,2,loc], axis=1)\n",
    "I = np.sum(location_data[:,:,3,loc], axis=1)\n",
    "R = np.sum(location_data[:,:,4,loc], axis=1)\n",
    "\n",
    "plt.plot(ts_days, S, label=\"S\")\n",
    "plt.plot(ts_days, E, label=\"E\")\n",
    "plt.plot(ts_days, A, label=\"A\")\n",
    "plt.plot(ts_days, I, label=\"I\")\n",
    "plt.plot(ts_days, R, label=\"R\")\n",
    "\n",
    "#plt.plot(ts_days, S+E+A+I+R, label=\"N\")\n",
    "\n",
    "plt.legend(loc='upper right', fontsize=12)\n",
    "plt.xlabel('Days')\n",
    "plt.title(\"Location %s\" % loc)\n",
    "plt.show()"
   ]
  },
  {
   "cell_type": "markdown",
   "metadata": {},
   "source": [
    "The thickness in the curves stem from the oscillations due to the daily commute. Zooming in, we get:"
   ]
  },
  {
   "cell_type": "code",
   "execution_count": 28,
   "metadata": {},
   "outputs": [
    {
     "data": {
      "image/png": "[encoded data removed]",
      "text/plain": [
       "<Figure size 576x216 with 1 Axes>"
      ]
     },
     "metadata": {
      "needs_background": "light"
     },
     "output_type": "display_data"
    }
   ],
   "source": [
    "ts_days = ts / (24*60)\n",
    "\n",
    "loc = 0\n",
    "\n",
    "plt.figure( figsize=(8,3) )\n",
    "\n",
    "S = np.sum(location_data[:,:,0,loc], axis=1)\n",
    "E = np.sum(location_data[:,:,1,loc], axis=1)\n",
    "A = np.sum(location_data[:,:,2,loc], axis=1)\n",
    "I = np.sum(location_data[:,:,3,loc], axis=1)\n",
    "R = np.sum(location_data[:,:,4,loc], axis=1)\n",
    "\n",
    "for i in range(int(np.max(ts_days))):\n",
    "    plt.axvline(i, color='black')\n",
    "plt.plot(ts_days, S+E+A+I+R, label=\"N\")\n",
    "\n",
    "plt.legend(loc='upper right', fontsize=12)\n",
    "plt.xlabel('Days')\n",
    "plt.title(\"Location %s\" % loc)\n",
    "\n",
    "plt.xlim(0, 5)\n",
    "plt.show()"
   ]
  },
  {
   "cell_type": "markdown",
   "metadata": {},
   "source": [
    "This concludes the first part of the PyRossGeo tutorial.\n",
    "\n",
    "- [Continue to **Tutorial 2: Handling PyRossGeo output**](../tutorial2-handling-PyRossGeo-output/tutorial2-handling-PyRossGeo-output.ipynb)\n",
    "- [Skip to **Tutorial 3: Handling the simulation output**](../tutorial3-interventions/tutorial3-interventions.ipynb)\n",
    "- [Go to the PyRossGeo documentation](https://github.com/lukastk/PyRossGeo/blob/master/docs/Documentation.md)"
   ]
  }
 ],
 "metadata": {
  "kernelspec": {
   "display_name": "Python 3",
   "language": "python",
   "name": "python3"
  },
  "language_info": {
   "codemirror_mode": {
    "name": "ipython",
    "version": 3
   },
   "file_extension": ".py",
   "mimetype": "text/x-python",
   "name": "python",
   "nbconvert_exporter": "python",
   "pygments_lexer": "ipython3",
   "version": "3.7.4"
  }
 },
 "nbformat": 4,
 "nbformat_minor": 4
}
