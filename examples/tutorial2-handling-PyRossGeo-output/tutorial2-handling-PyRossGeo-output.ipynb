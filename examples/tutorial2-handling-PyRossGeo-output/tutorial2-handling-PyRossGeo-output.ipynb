{
 "cells": [
  {
   "cell_type": "markdown",
   "metadata": {},
   "source": [
    "# Tutorial 2 - Handling PyRossGeo output"
   ]
  },
  {
   "cell_type": "markdown",
   "metadata": {},
   "source": [
    "- [Go back to **Tutorial 1: Introduction to PyRossGeo**](../tutorial1-introduction-to-pyrossgeo/tutorial1-introduction-to-pyrossgeo.ipynb)\n",
    "- [Skip to **Tutorial 3: Interventions**](../tutorial3-interventions/tutorial3-interventions.ipynb)\n",
    "- [Go to the PyRossGeo documentation](https://github.com/lukastk/PyRossGeo/blob/master/docs/Documentation.md)"
   ]
  },
  {
   "cell_type": "markdown",
   "metadata": {},
   "source": [
    "<b>Note: The various model parameters used in this tutorial were chosen for illustrative purposes, and are not based on figures from medical literature. Therefore the results of the simulations in the tutorial are not indicative of reality.</b>\n",
    "\n",
    "A PyRossGeo simulation can produce large amounts of data, with typical filesizes around several gigabytes. This tutorial covers some helpful utility functions in PyRossGeo to help users deal with the simulation outputs.\n",
    "\n",
    "*Note:* Section 2.2 covers the specific format of the raw simulation output. For most use-cases, you can skip section 2.2, and continue to 2.3, where we will introduce some utility functions with which we can more easily manipulate the simulation output."
   ]
  },
  {
   "cell_type": "code",
   "execution_count": 1,
   "metadata": {},
   "outputs": [],
   "source": [
    "%%capture\n",
    "# Compile and import local pyrossgeo module\n",
    "import os, sys\n",
    "owd = os.getcwd()\n",
    "os.chdir('../../')\n",
    "sys.path.insert(0,'../../')\n",
    "!python setup.py build_ext --inplace\n",
    "os.chdir(owd)\n",
    "\n",
    "import numpy as np\n",
    "import matplotlib as mpl\n",
    "import matplotlib.pyplot as plt\n",
    "import pyrossgeo\n",
    "\n",
    "import pandas as pd\n",
    "import json"
   ]
  },
  {
   "cell_type": "markdown",
   "metadata": {},
   "source": [
    "## 2.1 Generating simulation data\n",
    "\n",
    "We will start by generating some simulation data. We have our config files in the folder `SEAIR_network`, which sets up a network with 10 locations with commuting edges between them."
   ]
  },
  {
   "cell_type": "code",
   "execution_count": 2,
   "metadata": {},
   "outputs": [
    {
     "data": {
      "text/html": [
       "<div>\n",
       "<style scoped>\n",
       "    .dataframe tbody tr th:only-of-type {\n",
       "        vertical-align: middle;\n",
       "    }\n",
       "\n",
       "    .dataframe tbody tr th {\n",
       "        vertical-align: top;\n",
       "    }\n",
       "\n",
       "    .dataframe thead th {\n",
       "        text-align: right;\n",
       "    }\n",
       "</style>\n",
       "<table border=\"1\" class=\"dataframe\">\n",
       "  <thead>\n",
       "    <tr style=\"text-align: right;\">\n",
       "      <th></th>\n",
       "      <th>Home</th>\n",
       "      <th>Location</th>\n",
       "      <th>S0</th>\n",
       "      <th>E0</th>\n",
       "      <th>A0</th>\n",
       "      <th>I0</th>\n",
       "      <th>R0</th>\n",
       "      <th>S1</th>\n",
       "      <th>E1</th>\n",
       "      <th>A1</th>\n",
       "      <th>I1</th>\n",
       "      <th>R1</th>\n",
       "      <th>S2</th>\n",
       "      <th>E2</th>\n",
       "      <th>A2</th>\n",
       "      <th>I2</th>\n",
       "      <th>R2</th>\n",
       "    </tr>\n",
       "  </thead>\n",
       "  <tbody>\n",
       "    <tr>\n",
       "      <td>0</td>\n",
       "      <td>0</td>\n",
       "      <td>0</td>\n",
       "      <td>1000</td>\n",
       "      <td>100</td>\n",
       "      <td>0</td>\n",
       "      <td>0</td>\n",
       "      <td>0</td>\n",
       "      <td>2000</td>\n",
       "      <td>0</td>\n",
       "      <td>0</td>\n",
       "      <td>0</td>\n",
       "      <td>0</td>\n",
       "      <td>500</td>\n",
       "      <td>0</td>\n",
       "      <td>0</td>\n",
       "      <td>0</td>\n",
       "      <td>0</td>\n",
       "    </tr>\n",
       "    <tr>\n",
       "      <td>1</td>\n",
       "      <td>1</td>\n",
       "      <td>1</td>\n",
       "      <td>700</td>\n",
       "      <td>0</td>\n",
       "      <td>0</td>\n",
       "      <td>0</td>\n",
       "      <td>0</td>\n",
       "      <td>1200</td>\n",
       "      <td>0</td>\n",
       "      <td>0</td>\n",
       "      <td>0</td>\n",
       "      <td>0</td>\n",
       "      <td>2000</td>\n",
       "      <td>0</td>\n",
       "      <td>0</td>\n",
       "      <td>0</td>\n",
       "      <td>0</td>\n",
       "    </tr>\n",
       "    <tr>\n",
       "      <td>2</td>\n",
       "      <td>2</td>\n",
       "      <td>2</td>\n",
       "      <td>2000</td>\n",
       "      <td>0</td>\n",
       "      <td>0</td>\n",
       "      <td>0</td>\n",
       "      <td>0</td>\n",
       "      <td>3000</td>\n",
       "      <td>0</td>\n",
       "      <td>0</td>\n",
       "      <td>0</td>\n",
       "      <td>0</td>\n",
       "      <td>1000</td>\n",
       "      <td>0</td>\n",
       "      <td>0</td>\n",
       "      <td>0</td>\n",
       "      <td>0</td>\n",
       "    </tr>\n",
       "    <tr>\n",
       "      <td>3</td>\n",
       "      <td>3</td>\n",
       "      <td>3</td>\n",
       "      <td>3300</td>\n",
       "      <td>0</td>\n",
       "      <td>0</td>\n",
       "      <td>0</td>\n",
       "      <td>0</td>\n",
       "      <td>4800</td>\n",
       "      <td>0</td>\n",
       "      <td>0</td>\n",
       "      <td>0</td>\n",
       "      <td>0</td>\n",
       "      <td>5000</td>\n",
       "      <td>100</td>\n",
       "      <td>0</td>\n",
       "      <td>0</td>\n",
       "      <td>0</td>\n",
       "    </tr>\n",
       "    <tr>\n",
       "      <td>4</td>\n",
       "      <td>4</td>\n",
       "      <td>4</td>\n",
       "      <td>4600</td>\n",
       "      <td>0</td>\n",
       "      <td>0</td>\n",
       "      <td>0</td>\n",
       "      <td>0</td>\n",
       "      <td>6600</td>\n",
       "      <td>0</td>\n",
       "      <td>0</td>\n",
       "      <td>0</td>\n",
       "      <td>0</td>\n",
       "      <td>2000</td>\n",
       "      <td>0</td>\n",
       "      <td>0</td>\n",
       "      <td>0</td>\n",
       "      <td>0</td>\n",
       "    </tr>\n",
       "    <tr>\n",
       "      <td>5</td>\n",
       "      <td>5</td>\n",
       "      <td>5</td>\n",
       "      <td>5900</td>\n",
       "      <td>0</td>\n",
       "      <td>0</td>\n",
       "      <td>0</td>\n",
       "      <td>0</td>\n",
       "      <td>8400</td>\n",
       "      <td>0</td>\n",
       "      <td>0</td>\n",
       "      <td>0</td>\n",
       "      <td>0</td>\n",
       "      <td>6000</td>\n",
       "      <td>0</td>\n",
       "      <td>0</td>\n",
       "      <td>0</td>\n",
       "      <td>0</td>\n",
       "    </tr>\n",
       "    <tr>\n",
       "      <td>6</td>\n",
       "      <td>6</td>\n",
       "      <td>6</td>\n",
       "      <td>7200</td>\n",
       "      <td>0</td>\n",
       "      <td>0</td>\n",
       "      <td>0</td>\n",
       "      <td>0</td>\n",
       "      <td>2000</td>\n",
       "      <td>100</td>\n",
       "      <td>0</td>\n",
       "      <td>0</td>\n",
       "      <td>0</td>\n",
       "      <td>5000</td>\n",
       "      <td>0</td>\n",
       "      <td>0</td>\n",
       "      <td>0</td>\n",
       "      <td>0</td>\n",
       "    </tr>\n",
       "    <tr>\n",
       "      <td>7</td>\n",
       "      <td>7</td>\n",
       "      <td>7</td>\n",
       "      <td>8500</td>\n",
       "      <td>0</td>\n",
       "      <td>0</td>\n",
       "      <td>0</td>\n",
       "      <td>0</td>\n",
       "      <td>2000</td>\n",
       "      <td>0</td>\n",
       "      <td>0</td>\n",
       "      <td>0</td>\n",
       "      <td>0</td>\n",
       "      <td>2000</td>\n",
       "      <td>0</td>\n",
       "      <td>0</td>\n",
       "      <td>0</td>\n",
       "      <td>0</td>\n",
       "    </tr>\n",
       "    <tr>\n",
       "      <td>8</td>\n",
       "      <td>8</td>\n",
       "      <td>8</td>\n",
       "      <td>9800</td>\n",
       "      <td>0</td>\n",
       "      <td>0</td>\n",
       "      <td>0</td>\n",
       "      <td>0</td>\n",
       "      <td>5000</td>\n",
       "      <td>0</td>\n",
       "      <td>0</td>\n",
       "      <td>0</td>\n",
       "      <td>0</td>\n",
       "      <td>1000</td>\n",
       "      <td>100</td>\n",
       "      <td>0</td>\n",
       "      <td>0</td>\n",
       "      <td>0</td>\n",
       "    </tr>\n",
       "    <tr>\n",
       "      <td>9</td>\n",
       "      <td>9</td>\n",
       "      <td>9</td>\n",
       "      <td>2000</td>\n",
       "      <td>100</td>\n",
       "      <td>0</td>\n",
       "      <td>0</td>\n",
       "      <td>0</td>\n",
       "      <td>6000</td>\n",
       "      <td>0</td>\n",
       "      <td>0</td>\n",
       "      <td>0</td>\n",
       "      <td>0</td>\n",
       "      <td>3000</td>\n",
       "      <td>0</td>\n",
       "      <td>0</td>\n",
       "      <td>0</td>\n",
       "      <td>0</td>\n",
       "    </tr>\n",
       "  </tbody>\n",
       "</table>\n",
       "</div>"
      ],
      "text/plain": [
       "   Home  Location    S0   E0  A0  I0  R0    S1   E1  A1  I1  R1    S2   E2  \\\n",
       "0     0         0  1000  100   0   0   0  2000    0   0   0   0   500    0   \n",
       "1     1         1   700    0   0   0   0  1200    0   0   0   0  2000    0   \n",
       "2     2         2  2000    0   0   0   0  3000    0   0   0   0  1000    0   \n",
       "3     3         3  3300    0   0   0   0  4800    0   0   0   0  5000  100   \n",
       "4     4         4  4600    0   0   0   0  6600    0   0   0   0  2000    0   \n",
       "5     5         5  5900    0   0   0   0  8400    0   0   0   0  6000    0   \n",
       "6     6         6  7200    0   0   0   0  2000  100   0   0   0  5000    0   \n",
       "7     7         7  8500    0   0   0   0  2000    0   0   0   0  2000    0   \n",
       "8     8         8  9800    0   0   0   0  5000    0   0   0   0  1000  100   \n",
       "9     9         9  2000  100   0   0   0  6000    0   0   0   0  3000    0   \n",
       "\n",
       "   A2  I2  R2  \n",
       "0   0   0   0  \n",
       "1   0   0   0  \n",
       "2   0   0   0  \n",
       "3   0   0   0  \n",
       "4   0   0   0  \n",
       "5   0   0   0  \n",
       "6   0   0   0  \n",
       "7   0   0   0  \n",
       "8   0   0   0  \n",
       "9   0   0   0  "
      ]
     },
     "execution_count": 2,
     "metadata": {},
     "output_type": "execute_result"
    }
   ],
   "source": [
    "pd.read_csv('SEAIR_network/node_populations.csv')"
   ]
  },
  {
   "cell_type": "code",
   "execution_count": 3,
   "metadata": {},
   "outputs": [
    {
     "data": {
      "text/html": [
       "<div>\n",
       "<style scoped>\n",
       "    .dataframe tbody tr th:only-of-type {\n",
       "        vertical-align: middle;\n",
       "    }\n",
       "\n",
       "    .dataframe tbody tr th {\n",
       "        vertical-align: top;\n",
       "    }\n",
       "\n",
       "    .dataframe thead th {\n",
       "        text-align: right;\n",
       "    }\n",
       "</style>\n",
       "<table border=\"1\" class=\"dataframe\">\n",
       "  <thead>\n",
       "    <tr style=\"text-align: right;\">\n",
       "      <th></th>\n",
       "      <th>Home</th>\n",
       "      <th>From</th>\n",
       "      <th>To</th>\n",
       "      <th>Age</th>\n",
       "      <th># to move</th>\n",
       "      <th>% to move</th>\n",
       "      <th>t1</th>\n",
       "      <th>t2</th>\n",
       "      <th>ct1</th>\n",
       "      <th>ct2</th>\n",
       "      <th>Allow S</th>\n",
       "      <th>Allow E</th>\n",
       "      <th>Allow A</th>\n",
       "      <th>Allow I</th>\n",
       "      <th>Allow R</th>\n",
       "    </tr>\n",
       "  </thead>\n",
       "  <tbody>\n",
       "    <tr>\n",
       "      <td>0</td>\n",
       "      <td>0</td>\n",
       "      <td>0</td>\n",
       "      <td>1</td>\n",
       "      <td>0</td>\n",
       "      <td>210</td>\n",
       "      <td>-1</td>\n",
       "      <td>7</td>\n",
       "      <td>8</td>\n",
       "      <td>8</td>\n",
       "      <td>9</td>\n",
       "      <td>1</td>\n",
       "      <td>1</td>\n",
       "      <td>1</td>\n",
       "      <td>0</td>\n",
       "      <td>1</td>\n",
       "    </tr>\n",
       "    <tr>\n",
       "      <td>1</td>\n",
       "      <td>0</td>\n",
       "      <td>1</td>\n",
       "      <td>0</td>\n",
       "      <td>0</td>\n",
       "      <td>-1</td>\n",
       "      <td>1</td>\n",
       "      <td>17</td>\n",
       "      <td>18</td>\n",
       "      <td>18</td>\n",
       "      <td>19</td>\n",
       "      <td>1</td>\n",
       "      <td>1</td>\n",
       "      <td>1</td>\n",
       "      <td>1</td>\n",
       "      <td>1</td>\n",
       "    </tr>\n",
       "    <tr>\n",
       "      <td>2</td>\n",
       "      <td>0</td>\n",
       "      <td>0</td>\n",
       "      <td>2</td>\n",
       "      <td>1</td>\n",
       "      <td>500</td>\n",
       "      <td>-1</td>\n",
       "      <td>7</td>\n",
       "      <td>8</td>\n",
       "      <td>8</td>\n",
       "      <td>9</td>\n",
       "      <td>1</td>\n",
       "      <td>1</td>\n",
       "      <td>1</td>\n",
       "      <td>0</td>\n",
       "      <td>1</td>\n",
       "    </tr>\n",
       "    <tr>\n",
       "      <td>3</td>\n",
       "      <td>0</td>\n",
       "      <td>2</td>\n",
       "      <td>0</td>\n",
       "      <td>1</td>\n",
       "      <td>-1</td>\n",
       "      <td>1</td>\n",
       "      <td>17</td>\n",
       "      <td>18</td>\n",
       "      <td>18</td>\n",
       "      <td>19</td>\n",
       "      <td>1</td>\n",
       "      <td>1</td>\n",
       "      <td>1</td>\n",
       "      <td>1</td>\n",
       "      <td>1</td>\n",
       "    </tr>\n",
       "    <tr>\n",
       "      <td>4</td>\n",
       "      <td>1</td>\n",
       "      <td>1</td>\n",
       "      <td>0</td>\n",
       "      <td>1</td>\n",
       "      <td>100</td>\n",
       "      <td>-1</td>\n",
       "      <td>7</td>\n",
       "      <td>8</td>\n",
       "      <td>8</td>\n",
       "      <td>9</td>\n",
       "      <td>1</td>\n",
       "      <td>1</td>\n",
       "      <td>1</td>\n",
       "      <td>0</td>\n",
       "      <td>1</td>\n",
       "    </tr>\n",
       "    <tr>\n",
       "      <td>5</td>\n",
       "      <td>1</td>\n",
       "      <td>0</td>\n",
       "      <td>1</td>\n",
       "      <td>1</td>\n",
       "      <td>-1</td>\n",
       "      <td>1</td>\n",
       "      <td>17</td>\n",
       "      <td>18</td>\n",
       "      <td>18</td>\n",
       "      <td>19</td>\n",
       "      <td>1</td>\n",
       "      <td>1</td>\n",
       "      <td>1</td>\n",
       "      <td>1</td>\n",
       "      <td>1</td>\n",
       "    </tr>\n",
       "    <tr>\n",
       "      <td>6</td>\n",
       "      <td>2</td>\n",
       "      <td>2</td>\n",
       "      <td>1</td>\n",
       "      <td>2</td>\n",
       "      <td>300</td>\n",
       "      <td>-1</td>\n",
       "      <td>7</td>\n",
       "      <td>8</td>\n",
       "      <td>8</td>\n",
       "      <td>9</td>\n",
       "      <td>1</td>\n",
       "      <td>1</td>\n",
       "      <td>1</td>\n",
       "      <td>0</td>\n",
       "      <td>1</td>\n",
       "    </tr>\n",
       "    <tr>\n",
       "      <td>7</td>\n",
       "      <td>2</td>\n",
       "      <td>1</td>\n",
       "      <td>2</td>\n",
       "      <td>2</td>\n",
       "      <td>-1</td>\n",
       "      <td>1</td>\n",
       "      <td>17</td>\n",
       "      <td>18</td>\n",
       "      <td>18</td>\n",
       "      <td>19</td>\n",
       "      <td>1</td>\n",
       "      <td>1</td>\n",
       "      <td>1</td>\n",
       "      <td>1</td>\n",
       "      <td>1</td>\n",
       "    </tr>\n",
       "    <tr>\n",
       "      <td>8</td>\n",
       "      <td>3</td>\n",
       "      <td>3</td>\n",
       "      <td>1</td>\n",
       "      <td>0</td>\n",
       "      <td>210</td>\n",
       "      <td>-1</td>\n",
       "      <td>7</td>\n",
       "      <td>8</td>\n",
       "      <td>8</td>\n",
       "      <td>9</td>\n",
       "      <td>1</td>\n",
       "      <td>1</td>\n",
       "      <td>1</td>\n",
       "      <td>0</td>\n",
       "      <td>1</td>\n",
       "    </tr>\n",
       "    <tr>\n",
       "      <td>9</td>\n",
       "      <td>3</td>\n",
       "      <td>1</td>\n",
       "      <td>3</td>\n",
       "      <td>0</td>\n",
       "      <td>-1</td>\n",
       "      <td>1</td>\n",
       "      <td>17</td>\n",
       "      <td>18</td>\n",
       "      <td>18</td>\n",
       "      <td>19</td>\n",
       "      <td>1</td>\n",
       "      <td>1</td>\n",
       "      <td>1</td>\n",
       "      <td>1</td>\n",
       "      <td>1</td>\n",
       "    </tr>\n",
       "    <tr>\n",
       "      <td>10</td>\n",
       "      <td>4</td>\n",
       "      <td>4</td>\n",
       "      <td>8</td>\n",
       "      <td>1</td>\n",
       "      <td>450</td>\n",
       "      <td>-1</td>\n",
       "      <td>7</td>\n",
       "      <td>8</td>\n",
       "      <td>8</td>\n",
       "      <td>9</td>\n",
       "      <td>1</td>\n",
       "      <td>1</td>\n",
       "      <td>1</td>\n",
       "      <td>0</td>\n",
       "      <td>1</td>\n",
       "    </tr>\n",
       "    <tr>\n",
       "      <td>11</td>\n",
       "      <td>4</td>\n",
       "      <td>8</td>\n",
       "      <td>4</td>\n",
       "      <td>1</td>\n",
       "      <td>-1</td>\n",
       "      <td>1</td>\n",
       "      <td>17</td>\n",
       "      <td>18</td>\n",
       "      <td>18</td>\n",
       "      <td>19</td>\n",
       "      <td>1</td>\n",
       "      <td>1</td>\n",
       "      <td>1</td>\n",
       "      <td>1</td>\n",
       "      <td>1</td>\n",
       "    </tr>\n",
       "    <tr>\n",
       "      <td>12</td>\n",
       "      <td>5</td>\n",
       "      <td>5</td>\n",
       "      <td>2</td>\n",
       "      <td>0</td>\n",
       "      <td>230</td>\n",
       "      <td>-1</td>\n",
       "      <td>7</td>\n",
       "      <td>8</td>\n",
       "      <td>8</td>\n",
       "      <td>9</td>\n",
       "      <td>1</td>\n",
       "      <td>1</td>\n",
       "      <td>1</td>\n",
       "      <td>0</td>\n",
       "      <td>1</td>\n",
       "    </tr>\n",
       "    <tr>\n",
       "      <td>13</td>\n",
       "      <td>5</td>\n",
       "      <td>2</td>\n",
       "      <td>5</td>\n",
       "      <td>0</td>\n",
       "      <td>-1</td>\n",
       "      <td>1</td>\n",
       "      <td>17</td>\n",
       "      <td>18</td>\n",
       "      <td>18</td>\n",
       "      <td>19</td>\n",
       "      <td>1</td>\n",
       "      <td>1</td>\n",
       "      <td>1</td>\n",
       "      <td>1</td>\n",
       "      <td>1</td>\n",
       "    </tr>\n",
       "    <tr>\n",
       "      <td>14</td>\n",
       "      <td>6</td>\n",
       "      <td>6</td>\n",
       "      <td>1</td>\n",
       "      <td>2</td>\n",
       "      <td>150</td>\n",
       "      <td>-1</td>\n",
       "      <td>7</td>\n",
       "      <td>8</td>\n",
       "      <td>8</td>\n",
       "      <td>9</td>\n",
       "      <td>1</td>\n",
       "      <td>1</td>\n",
       "      <td>1</td>\n",
       "      <td>0</td>\n",
       "      <td>1</td>\n",
       "    </tr>\n",
       "    <tr>\n",
       "      <td>15</td>\n",
       "      <td>6</td>\n",
       "      <td>1</td>\n",
       "      <td>6</td>\n",
       "      <td>2</td>\n",
       "      <td>-1</td>\n",
       "      <td>1</td>\n",
       "      <td>17</td>\n",
       "      <td>18</td>\n",
       "      <td>18</td>\n",
       "      <td>19</td>\n",
       "      <td>1</td>\n",
       "      <td>1</td>\n",
       "      <td>1</td>\n",
       "      <td>1</td>\n",
       "      <td>1</td>\n",
       "    </tr>\n",
       "    <tr>\n",
       "      <td>16</td>\n",
       "      <td>7</td>\n",
       "      <td>7</td>\n",
       "      <td>9</td>\n",
       "      <td>1</td>\n",
       "      <td>200</td>\n",
       "      <td>-1</td>\n",
       "      <td>7</td>\n",
       "      <td>8</td>\n",
       "      <td>8</td>\n",
       "      <td>9</td>\n",
       "      <td>1</td>\n",
       "      <td>1</td>\n",
       "      <td>1</td>\n",
       "      <td>0</td>\n",
       "      <td>1</td>\n",
       "    </tr>\n",
       "    <tr>\n",
       "      <td>17</td>\n",
       "      <td>7</td>\n",
       "      <td>9</td>\n",
       "      <td>7</td>\n",
       "      <td>1</td>\n",
       "      <td>-1</td>\n",
       "      <td>1</td>\n",
       "      <td>17</td>\n",
       "      <td>18</td>\n",
       "      <td>18</td>\n",
       "      <td>19</td>\n",
       "      <td>1</td>\n",
       "      <td>1</td>\n",
       "      <td>1</td>\n",
       "      <td>1</td>\n",
       "      <td>1</td>\n",
       "    </tr>\n",
       "    <tr>\n",
       "      <td>18</td>\n",
       "      <td>8</td>\n",
       "      <td>8</td>\n",
       "      <td>2</td>\n",
       "      <td>1</td>\n",
       "      <td>500</td>\n",
       "      <td>-1</td>\n",
       "      <td>7</td>\n",
       "      <td>8</td>\n",
       "      <td>8</td>\n",
       "      <td>9</td>\n",
       "      <td>1</td>\n",
       "      <td>1</td>\n",
       "      <td>1</td>\n",
       "      <td>0</td>\n",
       "      <td>1</td>\n",
       "    </tr>\n",
       "    <tr>\n",
       "      <td>19</td>\n",
       "      <td>8</td>\n",
       "      <td>2</td>\n",
       "      <td>8</td>\n",
       "      <td>1</td>\n",
       "      <td>-1</td>\n",
       "      <td>1</td>\n",
       "      <td>17</td>\n",
       "      <td>18</td>\n",
       "      <td>18</td>\n",
       "      <td>19</td>\n",
       "      <td>1</td>\n",
       "      <td>1</td>\n",
       "      <td>1</td>\n",
       "      <td>1</td>\n",
       "      <td>1</td>\n",
       "    </tr>\n",
       "    <tr>\n",
       "      <td>20</td>\n",
       "      <td>9</td>\n",
       "      <td>9</td>\n",
       "      <td>5</td>\n",
       "      <td>2</td>\n",
       "      <td>400</td>\n",
       "      <td>-1</td>\n",
       "      <td>7</td>\n",
       "      <td>8</td>\n",
       "      <td>8</td>\n",
       "      <td>9</td>\n",
       "      <td>1</td>\n",
       "      <td>1</td>\n",
       "      <td>1</td>\n",
       "      <td>0</td>\n",
       "      <td>1</td>\n",
       "    </tr>\n",
       "    <tr>\n",
       "      <td>21</td>\n",
       "      <td>9</td>\n",
       "      <td>5</td>\n",
       "      <td>9</td>\n",
       "      <td>2</td>\n",
       "      <td>-1</td>\n",
       "      <td>1</td>\n",
       "      <td>17</td>\n",
       "      <td>18</td>\n",
       "      <td>18</td>\n",
       "      <td>19</td>\n",
       "      <td>1</td>\n",
       "      <td>1</td>\n",
       "      <td>1</td>\n",
       "      <td>1</td>\n",
       "      <td>1</td>\n",
       "    </tr>\n",
       "  </tbody>\n",
       "</table>\n",
       "</div>"
      ],
      "text/plain": [
       "    Home  From  To  Age  # to move  % to move  t1  t2  ct1  ct2  Allow S  \\\n",
       "0      0     0   1    0        210         -1   7   8    8    9        1   \n",
       "1      0     1   0    0         -1          1  17  18   18   19        1   \n",
       "2      0     0   2    1        500         -1   7   8    8    9        1   \n",
       "3      0     2   0    1         -1          1  17  18   18   19        1   \n",
       "4      1     1   0    1        100         -1   7   8    8    9        1   \n",
       "5      1     0   1    1         -1          1  17  18   18   19        1   \n",
       "6      2     2   1    2        300         -1   7   8    8    9        1   \n",
       "7      2     1   2    2         -1          1  17  18   18   19        1   \n",
       "8      3     3   1    0        210         -1   7   8    8    9        1   \n",
       "9      3     1   3    0         -1          1  17  18   18   19        1   \n",
       "10     4     4   8    1        450         -1   7   8    8    9        1   \n",
       "11     4     8   4    1         -1          1  17  18   18   19        1   \n",
       "12     5     5   2    0        230         -1   7   8    8    9        1   \n",
       "13     5     2   5    0         -1          1  17  18   18   19        1   \n",
       "14     6     6   1    2        150         -1   7   8    8    9        1   \n",
       "15     6     1   6    2         -1          1  17  18   18   19        1   \n",
       "16     7     7   9    1        200         -1   7   8    8    9        1   \n",
       "17     7     9   7    1         -1          1  17  18   18   19        1   \n",
       "18     8     8   2    1        500         -1   7   8    8    9        1   \n",
       "19     8     2   8    1         -1          1  17  18   18   19        1   \n",
       "20     9     9   5    2        400         -1   7   8    8    9        1   \n",
       "21     9     5   9    2         -1          1  17  18   18   19        1   \n",
       "\n",
       "    Allow E  Allow A  Allow I  Allow R  \n",
       "0         1        1        0        1  \n",
       "1         1        1        1        1  \n",
       "2         1        1        0        1  \n",
       "3         1        1        1        1  \n",
       "4         1        1        0        1  \n",
       "5         1        1        1        1  \n",
       "6         1        1        0        1  \n",
       "7         1        1        1        1  \n",
       "8         1        1        0        1  \n",
       "9         1        1        1        1  \n",
       "10        1        1        0        1  \n",
       "11        1        1        1        1  \n",
       "12        1        1        0        1  \n",
       "13        1        1        1        1  \n",
       "14        1        1        0        1  \n",
       "15        1        1        1        1  \n",
       "16        1        1        0        1  \n",
       "17        1        1        1        1  \n",
       "18        1        1        0        1  \n",
       "19        1        1        1        1  \n",
       "20        1        1        0        1  \n",
       "21        1        1        1        1  "
      ]
     },
     "execution_count": 3,
     "metadata": {},
     "output_type": "execute_result"
    }
   ],
   "source": [
    "pd.read_csv('SEAIR_network/commuter_networks.csv')"
   ]
  },
  {
   "cell_type": "markdown",
   "metadata": {},
   "source": [
    "Run the simulation"
   ]
  },
  {
   "cell_type": "code",
   "execution_count": 4,
   "metadata": {},
   "outputs": [
    {
     "data": {
      "text/plain": [
       "array([0, 3, 6, 9])"
      ]
     },
     "execution_count": 4,
     "metadata": {},
     "output_type": "execute_result"
    }
   ],
   "source": [
    "np.arange(0, 10)[0::3]"
   ]
  },
  {
   "cell_type": "code",
   "execution_count": 5,
   "metadata": {},
   "outputs": [],
   "source": [
    "%load_ext cython"
   ]
  },
  {
   "cell_type": "code",
   "execution_count": 6,
   "metadata": {},
   "outputs": [
    {
     "name": "stdout",
     "output_type": "stream",
     "text": [
      "0\n"
     ]
    }
   ],
   "source": [
    "%%cython\n",
    "\n",
    "cdef struct model_term:\n",
    "    # Represents a term in the model, either linear or non-linear\n",
    "    int oi_pos # Which model class to add to\n",
    "    int oi_neg # Which model class to subtract from\n",
    "    int oi_coupling # Which model class that couples\n",
    "    int infection_index # Class infection index (only used if infection term)\n",
    "    \n",
    "cdef test():\n",
    "    cdef model_term a\n",
    "    print(a.infection_index)\n",
    "    \n",
    "test()"
   ]
  },
  {
   "cell_type": "code",
   "execution_count": 7,
   "metadata": {},
   "outputs": [],
   "source": [
    "ts, dts = pyrossgeo.utils.get_dt_schedule([\n",
    "    (0,  2*60),    \n",
    "    (7*60,  1),    \n",
    "    (9*60, 2*60),  \n",
    "    (17*60, 1),     \n",
    "    (19*60, 2*60)  \n",
    "], end_time=24*60)\n",
    "\n",
    "t_start = 0\n",
    "t_end = 24*60*400 # Run for 400 days\n",
    "\n",
    "sim = pyrossgeo.Simulation()\n",
    "X_state = sim.initialize(sim_config_path='SEAIR_network')\n",
    "\n",
    "sim_data = sim.simulate(X_state, t_start, t_end, dts, steps_per_save=1)"
   ]
  },
  {
   "cell_type": "markdown",
   "metadata": {},
   "source": [
    "In `pyrossgeo.Simulation.simulate`, we have passed the optional argument `steps_per_save=1`. This means that the method will return simulation data for every forward-Euler in the simulation. If we instead set, `steps_per_save=len(dts)`, we will get one data point for every day.\n",
    "\n",
    "For large networks the output can grow very large. One way to decrease the size of the output is by only saving node data, and discarding commuter node data. To enable this option, pass `only_save_nodes=True` to the method."
   ]
  },
  {
   "cell_type": "markdown",
   "metadata": {},
   "source": [
    "## 2.2 The raw simulation output: `sim_data`"
   ]
  },
  {
   "cell_type": "markdown",
   "metadata": {},
   "source": [
    "We will now look at the contents of the simulation output `sim_data`."
   ]
  },
  {
   "cell_type": "code",
   "execution_count": 8,
   "metadata": {},
   "outputs": [],
   "source": [
    "node_mappings, cnode_mappings, ts_saved, X_states_saved = sim_data"
   ]
  },
  {
   "cell_type": "markdown",
   "metadata": {},
   "source": [
    "`ts_saved` is a 1D array containing the times of every state saved during the simulation. As we specified `steps_per_save=1` in the simulation, `ts_saved` comprises all the simulated time steps.\n",
    "\n",
    "`X_states_saved` is a numpy array with `len(ts_saved)` rows and a column for each degree of freedom of the system. The total number of degrees of freedom of the system is\n",
    "\n",
    "$$\n",
    "\\text{model dimension} \\times ( \\text{no. of nodes} + \\text{no. of commuter nodes} ).\n",
    "$$\n",
    "\n",
    "In our case the model dimension is 5 (SEAIR), and we have 41 nodes and 22 commuter nodes, which makes up a total of 315 degrees of freedom.\n",
    "\n",
    "`node_mappings` is a dictionary that maps each node to its corresponding index in the system state vector. Each key in the dictionary is a tuple of the form `(age, model_class, home, location)`. For example, we could use `node_mappings` to get the data of the $I$ class of node $(\\alpha=0,\\ i=5,\\ j=5)$:"
   ]
  },
  {
   "cell_type": "code",
   "execution_count": 9,
   "metadata": {},
   "outputs": [
    {
     "data": {
      "image/png": "[encoded data removed]",
      "text/plain": [
       "<Figure size 432x288 with 1 Axes>"
      ]
     },
     "metadata": {
      "needs_background": "light"
     },
     "output_type": "display_data"
    }
   ],
   "source": [
    "age = 0\n",
    "model_class = 3\n",
    "home = 5\n",
    "loc = 5\n",
    "\n",
    "model_classes = ['S', 'E', 'A', 'I', 'R']\n",
    "t_days = ts_saved / (24*60)\n",
    "\n",
    "plt.plot(t_days, X_states_saved[:, node_mappings[age,model_class,home,loc]],\n",
    "         label=\"$%s$ of node (%s,%s,%s)\" % ( model_classes[model_class], age, home, loc ) )\n",
    "plt.xlabel('Days')\n",
    "plt.legend(loc='upper right', fontsize=10)\n",
    "\n",
    "plt.show()"
   ]
  },
  {
   "cell_type": "markdown",
   "metadata": {},
   "source": [
    "Here we see the evolution of the $I$ class of residents of location 5, who are currently at location 5, and are of age group 0. Note the lack of oscillations in the curve, this is because the $I$ class is forbidden to commute. If you set `model_class=2` you will see oscillations in the curve."
   ]
  },
  {
   "cell_type": "markdown",
   "metadata": {},
   "source": [
    "`cnode_mappings` is a dictionary that maps each commuter node to its corresponding index in the system state vector. Each key is a tuple of the form `(age, model_class, home, from, to)`. Let's consider the commute of residents of 6, of age-group 2 and class $S$, going from location 6 to 1. This is the commuter node $(\\alpha = 2,\\ i=6,\\ (j=6)\\to (k=1))$.\n",
    "\n",
    "Both `node_mappings` and `cnode_mappings` are copies of dictionaries that are stored internally in the `pyross.Simulation` instance, as `sim.node_mappings` and `sim.cnode_mappings`."
   ]
  },
  {
   "cell_type": "code",
   "execution_count": 10,
   "metadata": {},
   "outputs": [
    {
     "data": {
      "image/png": "[encoded data removed]",
      "text/plain": [
       "<Figure size 576x216 with 1 Axes>"
      ]
     },
     "metadata": {
      "needs_background": "light"
     },
     "output_type": "display_data"
    }
   ],
   "source": [
    "age = 2\n",
    "model_class = 0\n",
    "home = 6\n",
    "fro = 6\n",
    "to = 1\n",
    "\n",
    "t_hours = ts_saved / (60)\n",
    "\n",
    "plt.figure( figsize=(8,3) )\n",
    "plt.plot(t_hours, X_states_saved[:, cnode_mappings[age,model_class,home,fro,to]],\n",
    "         label=\"$%s$ of cnode (%s,%s,%s,%s)\" % ( model_classes[model_class], age, home, fro, to ) )\n",
    "plt.axvline(7, color='gray', label='7AM')\n",
    "plt.axvline(9, color='black', label='9AM')\n",
    "\n",
    "plt.xlabel('Hours')\n",
    "plt.xlim(4, 12)\n",
    "plt.legend(loc='upper right', fontsize=10)\n",
    "\n",
    "plt.show()"
   ]
  },
  {
   "cell_type": "markdown",
   "metadata": {},
   "source": [
    "As can be seen from the content of this section, all simulation output is encoded in `sim_data = ((node_mappings, cnode_mappings), ts_saved, X_states_saved)`. Next, we will introduce some helpful utility functions to present the simulation data in more usable forms."
   ]
  },
  {
   "cell_type": "markdown",
   "metadata": {},
   "source": [
    "## 2.3 Manipulating simulation data using `pyrossgeo.utils`"
   ]
  },
  {
   "cell_type": "markdown",
   "metadata": {},
   "source": [
    "#### `pyrossgeo.utils.extract_network_data`\n",
    "\n",
    "Returns the values of all epidemiological classes, for each age-group, summed over all nodes and commuter nodes. The output `network_data` has the shape `(len(ts_saved), age_groups, model_dimension)`.\n",
    "\n",
    "`network_data[tn, a, o]` is equal to the number of people who are $O$, and are of age-group $\\alpha$, at time $t_n$. In other words, it is equal to\n",
    "\n",
    "$$\n",
    "\\sum_{ij} O_{ij}^{\\alpha}(t_n) + \\sum_{ijk} O_{i(j\\to k)}^{\\alpha}(t_n)\n",
    "$$\n",
    "\n",
    "where $O \\in \\{ S, E, A, I, R \\}$."
   ]
  },
  {
   "cell_type": "code",
   "execution_count": 11,
   "metadata": {},
   "outputs": [
    {
     "data": {
      "image/png": "[encoded data removed]",
      "text/plain": [
       "<Figure size 576x216 with 1 Axes>"
      ]
     },
     "metadata": {
      "needs_background": "light"
     },
     "output_type": "display_data"
    }
   ],
   "source": [
    "# Plot the evolution of the network as a whole\n",
    "\n",
    "network_data = pyrossgeo.utils.extract_network_data(sim_data)\n",
    "\n",
    "plt.figure( figsize=(8,3) )\n",
    "ts_days = ts_saved / (24*60)\n",
    "\n",
    "S = np.sum(network_data[:,:,0], axis=1) # Sum over all age-groups\n",
    "E = np.sum(network_data[:,:,1], axis=1)\n",
    "A = np.sum(network_data[:,:,2], axis=1)\n",
    "I = np.sum(network_data[:,:,3], axis=1)\n",
    "R = np.sum(network_data[:,:,4], axis=1)\n",
    "\n",
    "plt.plot(ts_days, S, label=\"S\")\n",
    "plt.plot(ts_days, E, label=\"E\")\n",
    "plt.plot(ts_days, A, label=\"A\")\n",
    "plt.plot(ts_days, I, label=\"I\")\n",
    "plt.plot(ts_days, R, label=\"R\")\n",
    "\n",
    "plt.legend(loc='upper right', fontsize=10)\n",
    "plt.xlabel('Days')\n",
    "plt.show()"
   ]
  },
  {
   "cell_type": "markdown",
   "metadata": {},
   "source": [
    "#### `pyrossgeo.utils.extract_location_data`\n",
    "\n",
    "Returns the values of all epidemiological classes, for each age-group, for all locations in the network. The output `location_data` has the shape `(len(ts_saved), age_groups, model_dimension, location)`.\n",
    "\n",
    "`location_data[tn, a, o, i]` is equal to the number of people who are $O$, and are of age-group $\\alpha$, at time $t_n$, summed over all nodes located at $i$. In other words, it is equal to\n",
    "\n",
    "$$\n",
    "\\sum_i O_{ij}^{\\alpha}(t_n)\n",
    "$$\n",
    "\n",
    "where $O \\in \\{ S, E, A, I, R \\}$."
   ]
  },
  {
   "cell_type": "code",
   "execution_count": 12,
   "metadata": {},
   "outputs": [
    {
     "data": {
      "image/png": "[encoded data removed]",
      "text/plain": [
       "<Figure size 576x288 with 1 Axes>"
      ]
     },
     "metadata": {
      "needs_background": "light"
     },
     "output_type": "display_data"
    }
   ],
   "source": [
    "# Plot a specific model class, summed over age groups, for every location\n",
    "\n",
    "location_data = pyrossgeo.utils.extract_location_data(sim_data)\n",
    "\n",
    "plt.figure( figsize=(8,4) )\n",
    "ts_days = ts_saved / (24*60)\n",
    "\n",
    "model_class = 0\n",
    "skip = 1\n",
    "\n",
    "for loc in range(location_data.shape[3]):\n",
    "    O = np.sum(location_data[:,:,model_class,loc], axis=1) # Sum over all age-groups\n",
    "    plt.plot(ts_days[::skip], O[::skip], label=\"%s at location %s\" % (model_classes[model_class], loc))\n",
    "\n",
    "plt.legend(loc='upper right', fontsize=10)\n",
    "plt.xlabel('Days')\n",
    "plt.show()"
   ]
  },
  {
   "cell_type": "code",
   "execution_count": 13,
   "metadata": {},
   "outputs": [
    {
     "data": {
      "image/png": "[encoded data removed]",
      "text/plain": [
       "<Figure size 576x288 with 1 Axes>"
      ]
     },
     "metadata": {
      "needs_background": "light"
     },
     "output_type": "display_data"
    }
   ],
   "source": [
    "# Plot a specific model class, summed over age groups, for every location\n",
    "\n",
    "location_data = pyrossgeo.utils.extract_location_data(sim_data)\n",
    "\n",
    "plt.figure( figsize=(8,4) )\n",
    "ts_days = ts_saved / (24*60)\n",
    "\n",
    "model_class = 0\n",
    "skip = 1\n",
    "\n",
    "loc = 5\n",
    "O = np.sum(location_data[:,:,model_class,loc], axis=1) # Sum over all age-groups\n",
    "plt.plot(ts_days[::skip], O[::skip], label=\"%s at location %s\" % (model_classes[model_class], loc))\n",
    "\n",
    "plt.legend(loc='upper right', fontsize=10)\n",
    "plt.xlabel('Days')\n",
    "plt.show()"
   ]
  },
  {
   "cell_type": "code",
   "execution_count": 14,
   "metadata": {},
   "outputs": [
    {
     "data": {
      "image/png": "[encoded data removed]",
      "text/plain": [
       "<Figure size 432x288 with 1 Axes>"
      ]
     },
     "metadata": {
      "needs_background": "light"
     },
     "output_type": "display_data"
    }
   ],
   "source": [
    "age = 0\n",
    "model_class = 4\n",
    "home = 5\n",
    "loc = 5\n",
    "\n",
    "model_classes = ['S', 'E', 'A', 'I', 'R']\n",
    "t_days = ts_saved / (24*60)\n",
    "\n",
    "plt.plot(t_days, X_states_saved[:, node_mappings[age,model_class,home,loc]],\n",
    "         label=\"$%s$ of node (%s,%s,%s)\" % ( model_classes[model_class], age, home, loc ) )\n",
    "plt.xlabel('Days')\n",
    "plt.legend(loc='upper right', fontsize=10)\n",
    "\n",
    "plt.show()"
   ]
  },
  {
   "cell_type": "markdown",
   "metadata": {},
   "source": [
    "#### `pyrossgeo.utils.extract_community_data`\n",
    "\n",
    "Returns the values of all epidemiological classes, for each age-group, for all communities in the network. The output `community_data` has the shape `(len(ts_saved), age_groups, model_dimension, communities)`.\n",
    "\n",
    "`community_data[tn, a, o, i]` is equal to the number of people who are $O$, and are of age-group $\\alpha$, at time $t_n$, who live at $i$. In other words, it is equal to\n",
    "\n",
    "$$\n",
    "\\sum_j O_{ij}^{\\alpha}(t_n) + \\sum_{jk} O_{i(j\\to k)}^{\\alpha}(t_n)\n",
    "$$\n",
    "\n",
    "where $O \\in \\{ S, E, A, I, R \\}$."
   ]
  },
  {
   "cell_type": "code",
   "execution_count": 15,
   "metadata": {},
   "outputs": [
    {
     "data": {
      "image/png": "[encoded data removed]",
      "text/plain": [
       "<Figure size 576x288 with 1 Axes>"
      ]
     },
     "metadata": {
      "needs_background": "light"
     },
     "output_type": "display_data"
    }
   ],
   "source": [
    "# Plot a specific model class, summed over age groups, for every community\n",
    "\n",
    "community_data = pyrossgeo.utils.extract_community_data(sim_data)\n",
    "\n",
    "plt.figure( figsize=(8,4) )\n",
    "ts_days = ts_saved / (24*60)\n",
    "\n",
    "model_class = 0\n",
    "\n",
    "for home in range(community_data.shape[3]):\n",
    "    O = np.sum(community_data[:,:,model_class,home], axis=1) # Sum over all age-groups\n",
    "    plt.plot(ts_days, O, label=\"%s of community %s\" % (model_classes[model_class], home))\n",
    "\n",
    "plt.legend(loc='upper right', fontsize=10)\n",
    "plt.xlabel('Days')\n",
    "plt.show()"
   ]
  },
  {
   "cell_type": "markdown",
   "metadata": {},
   "source": [
    "#### `pyrossgeo.utils.extract_node_data`\n",
    "\n",
    "Returns the values of all epidemiological classes, for each age-group, for all nodes in the network. The output `node_data` is a dictionary with keys of the form `(home, location)`. Each value in the dictionary is an array of shape `(len(ts_saved), age_groups, model_dimension)`.\n",
    "\n",
    "`node_data[i,j][tn, a, o]` is equal to the number of people who are $O$ in node $(\\alpha, i ,j)$. In other words, it is equal to\n",
    "\n",
    "$$\n",
    "O_{ij}^{\\alpha}(t_n)\n",
    "$$\n",
    "\n",
    "where $O \\in \\{ S, E, A, I, R \\}$."
   ]
  },
  {
   "cell_type": "code",
   "execution_count": 16,
   "metadata": {},
   "outputs": [
    {
     "data": {
      "image/png": "[encoded data removed]",
      "text/plain": [
       "<Figure size 576x288 with 1 Axes>"
      ]
     },
     "metadata": {
      "needs_background": "light"
     },
     "output_type": "display_data"
    }
   ],
   "source": [
    "# Plot a specific model class, summed over age groups, for every node\n",
    "\n",
    "node_data = pyrossgeo.utils.extract_node_data(sim_data)\n",
    "\n",
    "plt.figure( figsize=(8,4) )\n",
    "ts_days = ts_saved / (24*60)\n",
    "\n",
    "model_class = 0\n",
    "\n",
    "for home, loc in node_data:\n",
    "    O = np.sum(node_data[home,loc][:,:,model_class], axis=1) # Sum over all age-groups\n",
    "    plt.plot(ts_days, O, label=r\"%s of node $(:, %s,%s)$\" % (model_classes[model_class], home, loc))\n",
    "\n",
    "plt.legend(loc='upper right', fontsize=8, ncol=2)\n",
    "plt.xlabel('Days')\n",
    "plt.show()"
   ]
  },
  {
   "cell_type": "markdown",
   "metadata": {},
   "source": [
    "#### `pyrossgeo.utils.extract_cnode_data`\n",
    "\n",
    "Returns the values of all epidemiological classes, for each age-group, for all commuter nodes in the network. The output `cnode_data` is a dictionary with keys of the form `(home, from, to)`. Each value in the dictionary is an array of shape `(len(ts_saved), age_groups, model_dimension)`.\n",
    "\n",
    "`cnode_data[i,j,k][tn, a, o]` is equal to the number of people who are $O$ in the commuter node $(\\alpha, i, j \\to k)$. In other words, it is equal to\n",
    "\n",
    "$$\n",
    "O_{i(j\\to k)}^{\\alpha}(t_n)\n",
    "$$\n",
    "\n",
    "where $O \\in \\{ S, E, A, I, R \\}$."
   ]
  },
  {
   "cell_type": "code",
   "execution_count": 17,
   "metadata": {},
   "outputs": [
    {
     "data": {
      "image/png": "[encoded data removed]",
      "text/plain": [
       "<Figure size 576x288 with 1 Axes>"
      ]
     },
     "metadata": {
      "needs_background": "light"
     },
     "output_type": "display_data"
    }
   ],
   "source": [
    "# Plot a specific model class, summed over age groups, for every node\n",
    "\n",
    "node_data = pyrossgeo.utils.extract_cnode_data(sim_data)\n",
    "\n",
    "plt.figure( figsize=(8,4) )\n",
    "ts_days = ts_saved / (24*60)\n",
    "\n",
    "model_class = 0\n",
    "\n",
    "for home, fro, to in node_data:\n",
    "    O = np.sum(node_data[home,fro,to][:,:,model_class], axis=1) # Sum over all age-groups\n",
    "    plt.plot(ts_days, O, label=r\"%s of cnode $(:, %s,%s \\to %s)$\" % (model_classes[model_class], home, fro, to), alpha=1)\n",
    "\n",
    "plt.legend(loc='upper right', fontsize=8, ncol=2)\n",
    "plt.xlabel('Days')\n",
    "plt.show()"
   ]
  },
  {
   "cell_type": "markdown",
   "metadata": {},
   "source": [
    "The previous plot isn't very useful. We could instead plot the total number of people commuting at each point in time:"
   ]
  },
  {
   "cell_type": "code",
   "execution_count": 18,
   "metadata": {},
   "outputs": [
    {
     "data": {
      "image/png": "[encoded data removed]",
      "text/plain": [
       "<Figure size 576x288 with 1 Axes>"
      ]
     },
     "metadata": {
      "needs_background": "light"
     },
     "output_type": "display_data"
    }
   ],
   "source": [
    "# Plot the total amount of commuting, for a specific model clas\n",
    "\n",
    "node_data = pyrossgeo.utils.extract_cnode_data(sim_data)\n",
    "\n",
    "plt.figure( figsize=(8,4) )\n",
    "ts_days = ts_saved / (24*60)\n",
    "\n",
    "for model_class in range(len(model_classes)):\n",
    "    tot_moving = np.zeros( len(ts_saved) )\n",
    "\n",
    "    for home, fro, to in node_data:\n",
    "        tot_moving += np.sum(node_data[home,fro,to][:,:,model_class], axis=1)\n",
    "\n",
    "    plt.plot(ts_days, tot_moving, label=r\"%s\" % (model_classes[model_class]), alpha=0.6)\n",
    "\n",
    "plt.legend(loc='upper right', fontsize=8, ncol=2)\n",
    "plt.xlabel('Days')\n",
    "plt.show()"
   ]
  },
  {
   "cell_type": "markdown",
   "metadata": {},
   "source": [
    "Note that the thickness in each curve is due to the oscillations stemming from the commuting patterns (the commuter nodes are only occupied at specific points during the day). If we zoom in, we get:"
   ]
  },
  {
   "cell_type": "code",
   "execution_count": 19,
   "metadata": {},
   "outputs": [
    {
     "data": {
      "image/png": "[encoded data removed]",
      "text/plain": [
       "<Figure size 576x216 with 1 Axes>"
      ]
     },
     "metadata": {
      "needs_background": "light"
     },
     "output_type": "display_data"
    }
   ],
   "source": [
    "# Plot the total amount of commuting, for a specific model clas\n",
    "\n",
    "node_data = pyrossgeo.utils.extract_cnode_data(sim_data)\n",
    "\n",
    "plt.figure( figsize=(8,3) )\n",
    "ts_days = ts_saved / (24*60)\n",
    "\n",
    "for model_class in range(len(model_classes)):\n",
    "    tot_moving = np.zeros( len(ts_saved) )\n",
    "\n",
    "    for home, fro, to in node_data:\n",
    "        tot_moving += np.sum(node_data[home,fro,to][:,:,model_class], axis=1)\n",
    "\n",
    "    plt.plot(ts_days, tot_moving, label=r\"%s\" % (model_classes[model_class]), alpha=1)\n",
    "\n",
    "plt.legend(loc='upper right', fontsize=8, ncol=2)\n",
    "plt.xlabel('Days')\n",
    "plt.xlim(100, 101)\n",
    "plt.ylim(0, 1050)\n",
    "plt.show()"
   ]
  },
  {
   "cell_type": "markdown",
   "metadata": {},
   "source": [
    "If you observe closely, there seems to be some infecteds $I$ in the second commuting pulse. This is caused by the fact that there are people converting from $E$ to $I$ during the commute."
   ]
  },
  {
   "cell_type": "markdown",
   "metadata": {},
   "source": [
    "#### `pyrossgeo.utils.extract_simulation_data`\n",
    "\n",
    "All of the above can be extracted in one fell swoop using `pyrossgeo.utils.extract_simulation_data`."
   ]
  },
  {
   "cell_type": "code",
   "execution_count": 20,
   "metadata": {},
   "outputs": [],
   "source": [
    "ts_saved, node_data, cnode_data, location_data, community_data, network_data = pyrossgeo.utils.extract_simulation_data(sim_data)"
   ]
  },
  {
   "cell_type": "markdown",
   "metadata": {},
   "source": [
    "#### `pyrossgeo.utils.extract_ts`\n",
    "\n",
    "If you forget which element of `sim_data` is the times of each saved frame of the simulation, you can use `pyrossgeo.utils.extract_ts`."
   ]
  },
  {
   "cell_type": "code",
   "execution_count": 21,
   "metadata": {},
   "outputs": [],
   "source": [
    "ts_saved = pyrossgeo.utils.extract_ts(sim_data)"
   ]
  },
  {
   "cell_type": "markdown",
   "metadata": {},
   "source": [
    "## 2.4 Saving simulation data directly to the hard-disk using Zarr\n",
    "\n",
    "When we ran the simulation in section 2.1, the output was stored in RAM. For very large networks this is unfeasible, so can instead save the output directly to the hard-drive using [Zarr](https://zarr.readthedocs.io/en/stable/).\n",
    "\n",
    "To enable this feature, we pass `save_path=\"path/to/output/file\"` to `pyrossgeo.Simulation.simulate`."
   ]
  },
  {
   "cell_type": "code",
   "execution_count": 22,
   "metadata": {},
   "outputs": [],
   "source": [
    "ts, dts = pyrossgeo.utils.get_dt_schedule([\n",
    "    (0,  2*60),    \n",
    "    (7*60,  1),    \n",
    "    (9*60, 2*60),  \n",
    "    (17*60, 1),     \n",
    "    (19*60, 2*60)  \n",
    "], end_time=24*60)\n",
    "\n",
    "t_start = 0\n",
    "t_end = 24*60*400 # Run for 200 days\n",
    "\n",
    "sim = pyrossgeo.Simulation()\n",
    "X_state = sim.initialize(sim_config_path='SEAIR_network')\n",
    "\n",
    "# As storing files on the hard-drive is quite slow, we set `steps_per_save=len(dts)`.\n",
    "sim_data = sim.simulate(X_state, t_start, t_end, dts, steps_per_save=len(dts), save_path='sim_data')"
   ]
  },
  {
   "cell_type": "markdown",
   "metadata": {},
   "source": [
    "This creates a folder called `sim_data`, where the contents of the simulation is stored. The return value `sim_data` is of the same form `(node_mappings, cnode_mappings, ts, X_states)` as discussed in section 2.2, but the array `X_states` is now a `zarr.core.Array`."
   ]
  },
  {
   "cell_type": "markdown",
   "metadata": {},
   "source": [
    "To load the simulation data we use `pyrossgeo.utils.load_sim_data`"
   ]
  },
  {
   "cell_type": "code",
   "execution_count": 23,
   "metadata": {},
   "outputs": [],
   "source": [
    "sim_data = pyrossgeo.utils.load_sim_data('sim_data')"
   ]
  },
  {
   "cell_type": "markdown",
   "metadata": {},
   "source": [
    "To load `X_states` as a Zarr array, we set `use_zarr=True`."
   ]
  },
  {
   "cell_type": "code",
   "execution_count": 24,
   "metadata": {},
   "outputs": [
    {
     "name": "stdout",
     "output_type": "stream",
     "text": [
      "<class 'zarr.core.Array'>\n"
     ]
    }
   ],
   "source": [
    "sim_data = pyrossgeo.utils.load_sim_data('sim_data', use_zarr=True)\n",
    "node_mappings, cnode_mappings, ts, X_states = sim_data\n",
    "print(type(X_states))"
   ]
  },
  {
   "cell_type": "markdown",
   "metadata": {},
   "source": [
    "Zarr arrays can be used the same way an ordinary numpy array is used, and is compatible with any of the helper functions described in section 2.3. Although as Zarr does not store the array directly RAM, the function calls will be significantly slower. "
   ]
  },
  {
   "cell_type": "code",
   "execution_count": 25,
   "metadata": {},
   "outputs": [
    {
     "data": {
      "image/png": "[encoded data removed]",
      "text/plain": [
       "<Figure size 576x216 with 1 Axes>"
      ]
     },
     "metadata": {
      "needs_background": "light"
     },
     "output_type": "display_data"
    }
   ],
   "source": [
    "# Plot the evolution of the network as a whole\n",
    "\n",
    "network_data = pyrossgeo.utils.extract_network_data(sim_data)\n",
    "\n",
    "plt.figure( figsize=(8,3) )\n",
    "ts_days = ts / (24*60)\n",
    "\n",
    "S = np.sum(network_data[:,:,0], axis=1) # Sum over all age-groups\n",
    "E = np.sum(network_data[:,:,1], axis=1)\n",
    "A = np.sum(network_data[:,:,2], axis=1)\n",
    "I = np.sum(network_data[:,:,3], axis=1)\n",
    "R = np.sum(network_data[:,:,4], axis=1)\n",
    "\n",
    "plt.plot(ts_days, S, label=\"S\")\n",
    "plt.plot(ts_days, E, label=\"E\")\n",
    "plt.plot(ts_days, A, label=\"A\")\n",
    "plt.plot(ts_days, I, label=\"I\")\n",
    "plt.plot(ts_days, R, label=\"R\")\n",
    "\n",
    "plt.legend(loc='upper right', fontsize=10)\n",
    "plt.xlabel('Days')\n",
    "plt.show()"
   ]
  },
  {
   "cell_type": "markdown",
   "metadata": {},
   "source": [
    "This concludes the second part of the PyRossGeo tutorial.\n",
    "\n",
    "- [Go back to **Tutorial 1: Introduction to PyRossGeo**](../tutorial1-introduction-to-pyrossgeo/tutorial1-introduction-to-pyrossgeo.ipynb)\n",
    "- [Continue to **Tutorial 3: Interventions**](../tutorial3-interventions/tutorial3-interventions.ipynb)\n",
    "- [Go to the PyRossGeo documentation](https://github.com/lukastk/PyRossGeo/blob/master/docs/documentation.md)"
   ]
  }
 ],
 "metadata": {
  "kernelspec": {
   "display_name": "Python 3",
   "language": "python",
   "name": "python3"
  },
  "language_info": {
   "codemirror_mode": {
    "name": "ipython",
    "version": 3
   },
   "file_extension": ".py",
   "mimetype": "text/x-python",
   "name": "python",
   "nbconvert_exporter": "python",
   "pygments_lexer": "ipython3",
   "version": "3.7.4"
  }
 },
 "nbformat": 4,
 "nbformat_minor": 4
}
