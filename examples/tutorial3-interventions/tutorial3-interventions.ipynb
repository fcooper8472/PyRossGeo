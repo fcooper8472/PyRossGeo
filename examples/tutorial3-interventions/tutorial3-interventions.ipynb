{
 "cells": [
  {
   "cell_type": "markdown",
   "metadata": {},
   "source": [
    "# Tutorial 3 - Interventions"
   ]
  },
  {
   "cell_type": "markdown",
   "metadata": {},
   "source": [
    "- [Go back to **Tutorial 2: Handling PyRossGeo output**](../tutorial2-handling-PyRossGeo-output/tutorial2-handling-PyRossGeo-output.ipynb)\n",
    "- [Skip to **Tutorial 4: Making visualisations using GeoPandas**](../tutorial4-making-visualisations-with-geopandas/tutorial4-making-visualisations-with-geopandas.ipynb)\n",
    "- [Go to the PyRossGeo documentation](https://github.com/lukastk/PyRossGeo/blob/master/docs/documentation.md)"
   ]
  },
  {
   "cell_type": "markdown",
   "metadata": {},
   "source": [
    "<b>Note: The various model parameters used in this tutorial were chosen for illustrative purposes, and are not based on figures from medical literature. Therefore the results of the simulations in the tutorial are not indicative of reality.</b>\n",
    "\n",
    "In this tutorial we will learn how to model a lock-down using *events*. We will be using the same SEAIR network defined in Tutorial 2."
   ]
  },
  {
   "cell_type": "code",
   "execution_count": 1,
   "metadata": {},
   "outputs": [],
   "source": [
    "%%capture\n",
    "# Compile and import local pyrossgeo module\n",
    "import os, sys\n",
    "owd = os.getcwd()\n",
    "os.chdir('../../')\n",
    "sys.path.insert(0,'../../')\n",
    "!python setup.py build_ext --inplace\n",
    "os.chdir(owd)\n",
    "\n",
    "import numpy as np\n",
    "import matplotlib as mpl\n",
    "import matplotlib.pyplot as plt\n",
    "import pyrossgeo\n",
    "\n",
    "import pandas as pd\n",
    "import json"
   ]
  },
  {
   "cell_type": "markdown",
   "metadata": {},
   "source": [
    "## 3.1 Events"
   ]
  },
  {
   "cell_type": "markdown",
   "metadata": {},
   "source": [
    "In PyRossGeo, an *event* is a time-triggered call to a function that the user provides. It is very easy to use. All that's needed is to define the event function, and the times at which the event should be triggered. See the example below:"
   ]
  },
  {
   "cell_type": "code",
   "execution_count": 2,
   "metadata": {},
   "outputs": [],
   "source": [
    "hello_times = [ 100*(24*60), 200*(24*60), 300*(24*60) ]\n",
    "\n",
    "def hello_world(sim, step_i, t, dt, X_state, dX_state, X_state_saved, ts_saved, save_i): \n",
    "    print(\"Hello World. Day %s.\" % int(t/(24*60)))"
   ]
  },
  {
   "cell_type": "markdown",
   "metadata": {},
   "source": [
    "Here we have define a list `hello_times`, which contains the three event-trigger times: day 100, 200 and 300 of the simulation (in units of minutes). We have also defined our event function `hello_world`.\n",
    "\n",
    "We now run the simulation, passing the optional arguments `event_times` and `event_function` to `pyrossgeo.Simulation.simulate`:"
   ]
  },
  {
   "cell_type": "code",
   "execution_count": 3,
   "metadata": {},
   "outputs": [
    {
     "name": "stdout",
     "output_type": "stream",
     "text": [
      "Hello World. Day 100.\n",
      "Hello World. Day 200.\n",
      "Hello World. Day 300.\n"
     ]
    }
   ],
   "source": [
    "ts, dts = pyrossgeo.utils.get_dt_schedule([\n",
    "    (0,  2*60),    \n",
    "    (7*60,  1),    \n",
    "    (9*60, 2*60),  \n",
    "    (17*60, 1),     \n",
    "    (19*60, 2*60)  \n",
    "], end_time=24*60)\n",
    "\n",
    "t_start = 0\n",
    "t_end = 24*60*400 # Run for 400 days\n",
    "\n",
    "sim = pyrossgeo.Simulation()\n",
    "X_state = sim.initialize(sim_config_path='SEAIR_network')\n",
    "\n",
    "sim_data = sim.simulate(X_state, t_start, t_end, dts, steps_per_save=1,\n",
    "                       event_times=hello_times, event_function=hello_world)"
   ]
  },
  {
   "cell_type": "markdown",
   "metadata": {},
   "source": [
    "Note that the event is called at specific *times* rather than specific *simulation steps*. This means that the times in `event_times` might not necessarily correspond to an exact simulaton step. For example, we could write `say_the_day_times = [ 100*(24*60) + 0.5 ]`. If that's the case, then PyRossGeo will automatically round the time up to the nearest corresponding simululation step.\n",
    "\n",
    "Let's look at the arguments of the event function:\n",
    "\n",
    "```python\n",
    "def hello_world(sim, step_i, t, dt, X_state, dX_state, X_state_saved, ts_saved, save_i):\n",
    "```\n",
    "\n",
    "- `sim` is the same `pyrossgeo.Simulation` instance that you are running the simulation with. It has various helper functions with which we can manipulate the state of the network with. It also has a few exposed fields that you can fiddle with at your own risk. Some of these will be introduced in this tutorial, but for the rest see [Simulation.pxd](../../pyrossgeo/Simulation.pxd) and [Simulation.pyx](../../pyrossgeo/Simulation.pyx).\n",
    "- `step_i` is the current number of Forward-Euler steps the simulation has taken.\n",
    "- `t` is the current time in minutes.\n",
    "- `dt` is the current time step being used in the Forward-Euler integration.\n",
    "- `X_state` is the current state vector of the simulation. We can use `sim.node_mappings` and `sim.cnode_mappings` to manipulate specific nodes.\n",
    "- `dX_state` the current Forward-Euler derivative vector.\n",
    "- `X_state_saved` is the saved frames of the simulation thus far. Note that future saved frames of the simulation will be blank in the array.\n",
    "- `ts_saved` the times of each saved simulation frame.\n",
    "- `save_i` the index of the latest saved frame.\n",
    "\n",
    "If `steps_per_save` is not specified in `pyrossgeo.Simulation.simulate`, then the last three arguments will not be passed to the event function."
   ]
  },
  {
   "cell_type": "markdown",
   "metadata": {},
   "source": [
    "## 3.2 Imposing and releasing lockdowns"
   ]
  },
  {
   "cell_type": "markdown",
   "metadata": {},
   "source": [
    "We will now use events to impose a lockdown on the simulation. Let us first run it without any events, for reference."
   ]
  },
  {
   "cell_type": "code",
   "execution_count": 4,
   "metadata": {},
   "outputs": [],
   "source": [
    "ts, dts = pyrossgeo.utils.get_dt_schedule([\n",
    "    (0,  2*60),    \n",
    "    (7*60,  1),    \n",
    "    (9*60, 2*60),  \n",
    "    (17*60, 1),     \n",
    "    (19*60, 2*60)  \n",
    "], end_time=24*60)\n",
    "\n",
    "t_start = 0\n",
    "t_end = 24*60*100 # Run for 400 days\n",
    "\n",
    "sim = pyrossgeo.Simulation()\n",
    "X_state = sim.initialize(sim_config_path='SEAIR_network')\n",
    "\n",
    "sim_data_no_lockdown = sim.simulate(X_state, t_start, t_end, dts, steps_per_save=1)\n",
    "ts_saved, node_data, cnode_data, location_data, community_data, network_data = pyrossgeo.utils.extract_simulation_data(sim_data_no_lockdown)"
   ]
  },
  {
   "cell_type": "code",
   "execution_count": 15,
   "metadata": {},
   "outputs": [
    {
     "data": {
      "image/png": "[encoded data removed]",
      "text/plain": [
       "<Figure size 576x216 with 1 Axes>"
      ]
     },
     "metadata": {
      "needs_background": "light"
     },
     "output_type": "display_data"
    }
   ],
   "source": [
    "# Plot the evolution of the network as a whole\n",
    "\n",
    "network_data = pyrossgeo.utils.extract_network_data(sim_data_no_lockdown)\n",
    "ts_saved = pyrossgeo.utils.extract_ts(sim_data_no_lockdown)\n",
    "\n",
    "plt.figure( figsize=(8,3) )\n",
    "ts_days = ts_saved / (24*60)\n",
    "\n",
    "S = np.sum(network_data[:,:,0], axis=1) # Sum over all age-groups\n",
    "E = np.sum(network_data[:,:,1], axis=1)\n",
    "A = np.sum(network_data[:,:,2], axis=1)\n",
    "I = np.sum(network_data[:,:,3], axis=1)\n",
    "R = np.sum(network_data[:,:,4], axis=1)\n",
    "\n",
    "plt.plot(ts_days, S, label=\"S\")\n",
    "plt.plot(ts_days, E+A+I, label=\"E+A+I\")\n",
    "plt.plot(ts_days, R, label=\"R\")\n",
    "\n",
    "plt.legend(loc='upper right', fontsize=10)\n",
    "plt.xlabel('Days')\n",
    "plt.show()"
   ]
  },
  {
   "cell_type": "markdown",
   "metadata": {},
   "source": [
    "We will now define our lockdown event:"
   ]
  },
  {
   "cell_type": "code",
   "execution_count": 6,
   "metadata": {},
   "outputs": [],
   "source": [
    "lockdown_day = 40\n",
    "release_day = 100\n",
    "lockdown_and_release_times = [ lockdown_day*(24*60), release_day*(24*60) ]\n",
    "\n",
    "old_C_home = None\n",
    "\n",
    "def lockdown_and_release(sim, step_i, t, dt, X_state, dX_state, X_state_saved, ts_saved, save_i): \n",
    "    global old_C_home\n",
    "    \n",
    "    if not sim.is_commuting_stopped():\n",
    "        print(\"Day %s: Imposing lockdown.\" % int(t / (24*60)))\n",
    "        cmat = sim.get_contact_matrix('C_home')\n",
    "        old_C_home = np.array(cmat)\n",
    "        cmat[:] = cmat/2\n",
    "        sim.stop_commuting(True)\n",
    "    else:\n",
    "        print(\"Day %s: Releasing lockdown.\" % int(t / (24*60)))\n",
    "        cmat = sim.get_contact_matrix('C_home')\n",
    "        cmat[:] = old_C_home\n",
    "        sim.stop_commuting(False)"
   ]
  },
  {
   "cell_type": "markdown",
   "metadata": {},
   "source": [
    "There are two ways in which we model lockdown, we stop people from commuting, and we reduce the `C_home` contact matrix.\n",
    "\n",
    "- If you look at `SEAIR_network/node_cmatrices.csv` and `SEAIR_network/cnode_cmatrices.csv`, you will notice that when people are away from home, they interact via the `C_work` contact matrix. By turning off commuting, we remove the work contacts and prevent any spreading of the virus across the various locations.\n",
    "   - Commuting can be turned off using the helper function `pyrossgeo.Simulation.stop_commuting`.\n",
    "   - We can check whether we have already turned off commuting or not using `pyrossgeo.Simulation.is_commuting_stopped`.\n",
    "\n",
    "- We reduce the `C_home` contact matrix by first getting access to it via `sim.get_contact_matrix`. We can then simply edit the array in place to change the contact structure. We store the old value of `C_home` so that we can restore its value after the release of the lockdown.\n",
    "\n",
    "Let's run the simulation now, with our lockdown event."
   ]
  },
  {
   "cell_type": "code",
   "execution_count": 7,
   "metadata": {},
   "outputs": [
    {
     "name": "stdout",
     "output_type": "stream",
     "text": [
      "Day 40: Imposing lockdown.\n",
      "Day 100: Releasing lockdown.\n"
     ]
    }
   ],
   "source": [
    "ts, dts = pyrossgeo.utils.get_dt_schedule([\n",
    "    (0,  2*60),    \n",
    "    (7*60,  1),    \n",
    "    (9*60, 2*60),  \n",
    "    (17*60, 1),     \n",
    "    (19*60, 2*60)  \n",
    "], end_time=24*60)\n",
    "\n",
    "t_start = 0\n",
    "t_end = 24*60*150 # Run for 400 days\n",
    "\n",
    "sim = pyrossgeo.Simulation()\n",
    "X_state = sim.initialize(sim_config_path='SEAIR_network')\n",
    "\n",
    "sim_data_lockdown = sim.simulate(X_state, t_start, t_end, dts, steps_per_save=1,\n",
    "                       event_times=lockdown_and_release_times, event_function=lockdown_and_release)"
   ]
  },
  {
   "cell_type": "code",
   "execution_count": 8,
   "metadata": {},
   "outputs": [
    {
     "data": {
      "image/png": "[encoded data removed]",
      "text/plain": [
       "<Figure size 576x216 with 1 Axes>"
      ]
     },
     "metadata": {
      "needs_background": "light"
     },
     "output_type": "display_data"
    }
   ],
   "source": [
    "# Plot the evolution of the network as a whole\n",
    "\n",
    "network_data = pyrossgeo.utils.extract_network_data(sim_data_lockdown)\n",
    "ts_saved = pyrossgeo.utils.extract_ts(sim_data_lockdown)\n",
    "\n",
    "plt.figure( figsize=(8,3) )\n",
    "ts_days = ts_saved / (24*60)\n",
    "\n",
    "S = np.sum(network_data[:,:,0], axis=1) # Sum over all age-groups\n",
    "E = np.sum(network_data[:,:,1], axis=1)\n",
    "A = np.sum(network_data[:,:,2], axis=1)\n",
    "I = np.sum(network_data[:,:,3], axis=1)\n",
    "R = np.sum(network_data[:,:,4], axis=1)\n",
    "\n",
    "plt.plot(ts_days, S, label=\"S\")\n",
    "plt.plot(ts_days, E+A+I, label=\"E+A+I\")\n",
    "plt.plot(ts_days, R, label=\"R\")\n",
    "\n",
    "plt.axvspan(lockdown_day, release_day, color='red', alpha=0.1, label='Lockdown')\n",
    "\n",
    "plt.legend(loc='upper right', fontsize=10)\n",
    "plt.xlabel('Days')\n",
    "plt.show()"
   ]
  },
  {
   "cell_type": "markdown",
   "metadata": {},
   "source": [
    "This concludes the third part of the PyRossGeo tutorial.\n",
    "\n",
    "- [Go back to **Tutorial 2: Handling PyRossGeo output**](../tutorial2-handling-PyRossGeo-output/tutorial2-handling-PyRossGeo-output.ipynb)\n",
    "- [Continue to **Tutorial 4: Making visualisations using GeoPandas**](../tutorial4-making-visualisations-with-geopandas/tutorial4-making-visualisations-using-geopandas.ipynb)\n",
    "- [Go to the PyRossGeo documentation](https://github.com/lukastk/PyRossGeo/blob/master/docs/documentation.md)"
   ]
  }
 ],
 "metadata": {
  "kernelspec": {
   "display_name": "Python 3",
   "language": "python",
   "name": "python3"
  },
  "language_info": {
   "codemirror_mode": {
    "name": "ipython",
    "version": 3
   },
   "file_extension": ".py",
   "mimetype": "text/x-python",
   "name": "python",
   "nbconvert_exporter": "python",
   "pygments_lexer": "ipython3",
   "version": "3.7.4"
  }
 },
 "nbformat": 4,
 "nbformat_minor": 4
}
